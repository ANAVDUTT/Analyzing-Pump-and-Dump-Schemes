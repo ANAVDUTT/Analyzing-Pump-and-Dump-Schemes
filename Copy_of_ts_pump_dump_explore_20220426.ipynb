{
  "nbformat": 4,
  "nbformat_minor": 0,
  "metadata": {
    "colab": {
      "provenance": [],
      "collapsed_sections": [
        "Onn4THi9QgEY",
        "lbUq_xJ4Qhod",
        "YZqkgffBMFpU",
        "W6E89koAMLIy",
        "XI0Ng3_VR8pr",
        "yuIXOKGDMEBb"
      ],
      "toc_visible": true,
      "include_colab_link": true
    },
    "kernelspec": {
      "name": "python3",
      "display_name": "Python 3"
    },
    "language_info": {
      "name": "python"
    }
  },
  "cells": [
    {
      "cell_type": "markdown",
      "metadata": {
        "id": "view-in-github",
        "colab_type": "text"
      },
      "source": [
        "<a href=\"https://colab.research.google.com/github/ANAVDUTT/Analyzing-Pump-and-Dump-Schemes/blob/main/Copy_of_ts_pump_dump_explore_20220426.ipynb\" target=\"_parent\"><img src=\"https://colab.research.google.com/assets/colab-badge.svg\" alt=\"Open In Colab\"/></a>"
      ]
    },
    {
      "cell_type": "markdown",
      "source": [
        "# Setup"
      ],
      "metadata": {
        "id": "HGnpJrBqOlBM"
      }
    },
    {
      "cell_type": "code",
      "execution_count": null,
      "metadata": {
        "id": "bpwAPxjleF6n",
        "colab": {
          "base_uri": "https://localhost:8080/"
        },
        "outputId": "7c8eccfa-bb70-4210-9a22-c12d6ff98534"
      },
      "outputs": [
        {
          "output_type": "stream",
          "name": "stdout",
          "text": [
            "Attempting to attach your Google gDrive to this Colab Jupyter Notebook\n",
            "Mounted at /gdrive\n"
          ]
        }
      ],
      "source": [
        "# [INPUT REQUIRED]: Authorize access to Google gDrive\n",
        "\n",
        "# Connect this Notebook to your permanent Google Drive\n",
        "#   so all generated output is saved to permanent storage there\n",
        "\n",
        "try:\n",
        "  from google.colab import drive\n",
        "  IN_COLAB=True\n",
        "except:\n",
        "  IN_COLAB=False\n",
        "\n",
        "if IN_COLAB:\n",
        "  print(\"Attempting to attach your Google gDrive to this Colab Jupyter Notebook\")\n",
        "  drive.mount('/gdrive', force_remount=True)\n",
        "else:\n",
        "  print(\"Your Google gDrive is attached to this Colab Jupyter Notebook\")"
      ]
    },
    {
      "cell_type": "code",
      "source": [
        "%cd /gdrive/MyDrive/Code/senior_seminar/\n",
        "!ls -altr"
      ],
      "metadata": {
        "id": "yhlEqNOUeQh4",
        "colab": {
          "base_uri": "https://localhost:8080/"
        },
        "outputId": "92d7573d-c713-42aa-bfd6-84f861c3f55c"
      },
      "execution_count": null,
      "outputs": [
        {
          "output_type": "stream",
          "name": "stdout",
          "text": [
            "/gdrive/MyDrive/Code/senior_seminar\n",
            "total 313977\n",
            "-rw------- 1 root root      5592 Oct  7  2020  catfish.csv\n",
            "-rw------- 1 root root      9186 Mar  9  2021  TimeSeriesExpedia.csv\n",
            "-rw------- 1 root root    936364 Mar 15  2021  Anomaly_Detection.ipynb\n",
            "-rw------- 1 root root    208250 Sep 29  2021  BTC-USD.csv\n",
            "-rw------- 1 root root       143 Oct  4  2021 'Project notes.gdoc'\n",
            "-rw------- 1 root root     41774 Nov  5 17:36  10yrUSTreas.csv\n",
            "-rw------- 1 root root     66808 Nov  5 17:38  SP_500.csv\n",
            "-rw------- 1 root root    681662 Nov 15 17:54 'bitcoin-price-prediction-arima-xgboost-lstm-fbprop (1).ipynb'\n",
            "-rw------- 1 root root 317526599 Nov 25 18:40  BTC.csv\n",
            "-rw------- 1 root root    133058 Dec  6 17:06  TSLA.csv\n",
            "-rw------- 1 root root    154711 Dec  6 17:21  NSDQ.csv\n",
            "-rw------- 1 root root   1646919 Feb 28 02:24 'Copy of Bitcoin Forecasting'\n",
            "-rw------- 1 root root     15427 Apr 27 16:01  SIMPLXPAP_BO.csv\n",
            "-rw------- 1 root root     82891 May  2 23:14  BALFC_BO.csv\n"
          ]
        }
      ]
    },
    {
      "cell_type": "code",
      "source": [
        "# Core Python Libraries\n",
        "\n",
        "import numpy as np\n",
        "import pandas as pd\n",
        "import matplotlib.pyplot as plt\n",
        "import seaborn as sns\n",
        "\n",
        "from datetime import datetime\n",
        "\n",
        "%matplotlib inline\n",
        "plt.rcParams[\"figure.figsize\"] = (20,10) # plt.rcParamsDefault[\"figure.figsize\"]\n",
        "\n",
        "import plotly.express as px \n",
        "import plotly.graph_objs as go\n",
        "\n",
        "from statsmodels.nonparametric.smoothers_lowess import lowess\n"
      ],
      "metadata": {
        "id": "j1hGN4qweKxm",
        "colab": {
          "base_uri": "https://localhost:8080/"
        },
        "outputId": "6db93f03-a126-4b94-eae3-f91faef8c19b"
      },
      "execution_count": null,
      "outputs": [
        {
          "output_type": "stream",
          "name": "stderr",
          "text": [
            "/usr/local/lib/python3.7/dist-packages/statsmodels/tools/_testing.py:19: FutureWarning: pandas.util.testing is deprecated. Use the functions in the public API at pandas.testing instead.\n",
            "  import pandas.util.testing as tm\n"
          ]
        }
      ]
    },
    {
      "cell_type": "code",
      "source": [
        "from IPython.core.interactiveshell import InteractiveShell\n",
        "InteractiveShell.ast_node_interactivity = 'all'"
      ],
      "metadata": {
        "id": "5D4frV7sFeiV"
      },
      "execution_count": null,
      "outputs": []
    },
    {
      "cell_type": "code",
      "source": [
        "!ls -1 *.csv"
      ],
      "metadata": {
        "id": "vkDOgxnIeUfO",
        "colab": {
          "base_uri": "https://localhost:8080/"
        },
        "outputId": "3e8b7181-b188-4c46-fa39-ffc390389210"
      },
      "execution_count": null,
      "outputs": [
        {
          "output_type": "stream",
          "name": "stdout",
          "text": [
            "10yrUSTreas.csv\n",
            "BALFC_BO.csv\n",
            "BTC.csv\n",
            "BTC-USD.csv\n",
            "catfish.csv\n",
            "NSDQ.csv\n",
            "SIMPLXPAP_BO.csv\n",
            "SP_500.csv\n",
            "TimeSeriesExpedia.csv\n",
            "TSLA.csv\n"
          ]
        }
      ]
    },
    {
      "cell_type": "code",
      "source": [
        "# Only run once\n",
        "\n",
        "# !unzip features_15S.csv.gz"
      ],
      "metadata": {
        "id": "G37mNsZLeqxY"
      },
      "execution_count": null,
      "outputs": []
    },
    {
      "cell_type": "code",
      "source": [
        "!ls -altr data_samples"
      ],
      "metadata": {
        "id": "0LH3XfWbfMTl",
        "colab": {
          "base_uri": "https://localhost:8080/"
        },
        "outputId": "9ad294aa-80ca-437f-e712-9f6e13af086a"
      },
      "execution_count": null,
      "outputs": [
        {
          "output_type": "stream",
          "name": "stdout",
          "text": [
            "ls: cannot access 'data_samples': No such file or directory\n"
          ]
        }
      ]
    },
    {
      "cell_type": "markdown",
      "source": [
        "# Read Datafile"
      ],
      "metadata": {
        "id": "8AXPQv7cOiOw"
      }
    },
    {
      "cell_type": "markdown",
      "source": [
        "## Read Raw Data"
      ],
      "metadata": {
        "id": "Onn4THi9QgEY"
      }
    },
    {
      "cell_type": "code",
      "source": [
        "!ls -altr"
      ],
      "metadata": {
        "id": "1PdlTmxi2GRY",
        "colab": {
          "base_uri": "https://localhost:8080/"
        },
        "outputId": "8bf70cba-3019-45cd-de70-d4bf20726092"
      },
      "execution_count": null,
      "outputs": [
        {
          "output_type": "stream",
          "name": "stdout",
          "text": [
            "total 313977\n",
            "-rw------- 1 root root      5592 Oct  7  2020  catfish.csv\n",
            "-rw------- 1 root root      9186 Mar  9  2021  TimeSeriesExpedia.csv\n",
            "-rw------- 1 root root    936364 Mar 15  2021  Anomaly_Detection.ipynb\n",
            "-rw------- 1 root root    208250 Sep 29  2021  BTC-USD.csv\n",
            "-rw------- 1 root root       143 Oct  4  2021 'Project notes.gdoc'\n",
            "-rw------- 1 root root     41774 Nov  5 17:36  10yrUSTreas.csv\n",
            "-rw------- 1 root root     66808 Nov  5 17:38  SP_500.csv\n",
            "-rw------- 1 root root    681662 Nov 15 17:54 'bitcoin-price-prediction-arima-xgboost-lstm-fbprop (1).ipynb'\n",
            "-rw------- 1 root root 317526599 Nov 25 18:40  BTC.csv\n",
            "-rw------- 1 root root    133058 Dec  6 17:06  TSLA.csv\n",
            "-rw------- 1 root root    154711 Dec  6 17:21  NSDQ.csv\n",
            "-rw------- 1 root root   1646919 Feb 28 02:24 'Copy of Bitcoin Forecasting'\n",
            "-rw------- 1 root root     15427 Apr 27 16:01  SIMPLXPAP_BO.csv\n",
            "-rw------- 1 root root     82891 May  2 23:14  BALFC_BO.csv\n"
          ]
        }
      ]
    },
    {
      "cell_type": "code",
      "source": [
        "\"\"\"\n",
        "!mv SIMPLXPAP.BO.csv SIMPLXPAP_BO.csv\n",
        "!mv BALFC.BO.csv BALFC_BO.csv\n",
        "!mv ADANIPOWER.NS.csv ADANIPOWER_NS.csv\n",
        "\"\"\""
      ],
      "metadata": {
        "id": "4kyh7AuR2M0c",
        "colab": {
          "base_uri": "https://localhost:8080/",
          "height": 35
        },
        "outputId": "ef83b05d-1d30-485c-a056-874b77560dd4"
      },
      "execution_count": null,
      "outputs": [
        {
          "output_type": "execute_result",
          "data": {
            "text/plain": [
              "'\\n!mv SIMPLXPAP.BO.csv SIMPLXPAP_BO.csv\\n!mv BALFC.BO.csv BALFC_BO.csv\\n!mv ADANIPOWER.NS.csv ADANIPOWER_NS.csv\\n'"
            ],
            "application/vnd.google.colaboratory.intrinsic+json": {
              "type": "string"
            }
          },
          "metadata": {},
          "execution_count": 9
        }
      ]
    },
    {
      "cell_type": "code",
      "source": [
        "# Stock Details\n",
        "\n",
        "# stock_name = 'ADANIPOWER_NS'\n",
        "stock_name = 'BALFC_BO'\n",
        "# stock_name = 'SIMPLXPAP_BO'\n",
        "\n",
        "#stock_ts_ls = ['7NR_BO','ADANIPOWER_NS','ADINATH_BO','AGROPHOS_NS','BALFC_BO','BANASFN_BO','SIMPLXPAP_BO','TTML_NS']\n",
        "#stock_name = stock_ts_ls[5]\n",
        "\n",
        "stock_datafile = f'{stock_name}.csv'\n",
        "# stock_datapath = f'./data_samples/{stock_datafile}'\n",
        "stock_datapath = f'./{stock_datafile}'"
      ],
      "metadata": {
        "id": "hszHIVwkf2pG"
      },
      "execution_count": null,
      "outputs": []
    },
    {
      "cell_type": "code",
      "source": [
        "df = pd.read_csv(stock_datapath , parse_dates=['Date'], infer_datetime_format=True, index_col=0, dayfirst=True)\n",
        "\n",
        "# Remove Space in Col Name\n",
        "df.rename(columns={'Adj Close':'Adjusted_Close'}, inplace=True)\n",
        "\n",
        "# Index using Date\n",
        "# df.index = df['Date']\n",
        "# df.drop(columns=['Date'], inplace=True)\n",
        "# df.index = pd.DatetimeIndex(df.index)\n",
        "\n",
        "# df = df.reindex(df.index, fill_value=np.nan)\n",
        "# df = df.reindex(df.index, fill_value=0)\n",
        "\n",
        "df.head()\n",
        "df.info()"
      ],
      "metadata": {
        "id": "VNMiOubf_acX",
        "colab": {
          "base_uri": "https://localhost:8080/",
          "height": 469
        },
        "outputId": "a183bc4b-da29-4d9c-db6f-1823636569f9"
      },
      "execution_count": null,
      "outputs": [
        {
          "output_type": "execute_result",
          "data": {
            "text/plain": [
              "                 Open       High        Low      Close  Adjusted_Close  Volume\n",
              "Date                                                                          \n",
              "2017-04-13  68.550003  68.599998  66.250000  67.000000       65.432434    6960\n",
              "2017-04-17  69.000000  69.949997  67.650002  68.500000       66.897339   12000\n",
              "2017-04-18  69.099998  70.000000  69.099998  69.099998       67.483299    9726\n",
              "2017-04-19  69.000000  69.849998  69.000000  69.800003       68.166931   10100\n",
              "2017-04-20  69.000000  70.000000  68.000000  69.599998       67.971603    7642"
            ],
            "text/html": [
              "\n",
              "  <div id=\"df-818e2220-e4e3-4afe-a534-1bd8ff07008b\">\n",
              "    <div class=\"colab-df-container\">\n",
              "      <div>\n",
              "<style scoped>\n",
              "    .dataframe tbody tr th:only-of-type {\n",
              "        vertical-align: middle;\n",
              "    }\n",
              "\n",
              "    .dataframe tbody tr th {\n",
              "        vertical-align: top;\n",
              "    }\n",
              "\n",
              "    .dataframe thead th {\n",
              "        text-align: right;\n",
              "    }\n",
              "</style>\n",
              "<table border=\"1\" class=\"dataframe\">\n",
              "  <thead>\n",
              "    <tr style=\"text-align: right;\">\n",
              "      <th></th>\n",
              "      <th>Open</th>\n",
              "      <th>High</th>\n",
              "      <th>Low</th>\n",
              "      <th>Close</th>\n",
              "      <th>Adjusted_Close</th>\n",
              "      <th>Volume</th>\n",
              "    </tr>\n",
              "    <tr>\n",
              "      <th>Date</th>\n",
              "      <th></th>\n",
              "      <th></th>\n",
              "      <th></th>\n",
              "      <th></th>\n",
              "      <th></th>\n",
              "      <th></th>\n",
              "    </tr>\n",
              "  </thead>\n",
              "  <tbody>\n",
              "    <tr>\n",
              "      <th>2017-04-13</th>\n",
              "      <td>68.550003</td>\n",
              "      <td>68.599998</td>\n",
              "      <td>66.250000</td>\n",
              "      <td>67.000000</td>\n",
              "      <td>65.432434</td>\n",
              "      <td>6960</td>\n",
              "    </tr>\n",
              "    <tr>\n",
              "      <th>2017-04-17</th>\n",
              "      <td>69.000000</td>\n",
              "      <td>69.949997</td>\n",
              "      <td>67.650002</td>\n",
              "      <td>68.500000</td>\n",
              "      <td>66.897339</td>\n",
              "      <td>12000</td>\n",
              "    </tr>\n",
              "    <tr>\n",
              "      <th>2017-04-18</th>\n",
              "      <td>69.099998</td>\n",
              "      <td>70.000000</td>\n",
              "      <td>69.099998</td>\n",
              "      <td>69.099998</td>\n",
              "      <td>67.483299</td>\n",
              "      <td>9726</td>\n",
              "    </tr>\n",
              "    <tr>\n",
              "      <th>2017-04-19</th>\n",
              "      <td>69.000000</td>\n",
              "      <td>69.849998</td>\n",
              "      <td>69.000000</td>\n",
              "      <td>69.800003</td>\n",
              "      <td>68.166931</td>\n",
              "      <td>10100</td>\n",
              "    </tr>\n",
              "    <tr>\n",
              "      <th>2017-04-20</th>\n",
              "      <td>69.000000</td>\n",
              "      <td>70.000000</td>\n",
              "      <td>68.000000</td>\n",
              "      <td>69.599998</td>\n",
              "      <td>67.971603</td>\n",
              "      <td>7642</td>\n",
              "    </tr>\n",
              "  </tbody>\n",
              "</table>\n",
              "</div>\n",
              "      <button class=\"colab-df-convert\" onclick=\"convertToInteractive('df-818e2220-e4e3-4afe-a534-1bd8ff07008b')\"\n",
              "              title=\"Convert this dataframe to an interactive table.\"\n",
              "              style=\"display:none;\">\n",
              "        \n",
              "  <svg xmlns=\"http://www.w3.org/2000/svg\" height=\"24px\"viewBox=\"0 0 24 24\"\n",
              "       width=\"24px\">\n",
              "    <path d=\"M0 0h24v24H0V0z\" fill=\"none\"/>\n",
              "    <path d=\"M18.56 5.44l.94 2.06.94-2.06 2.06-.94-2.06-.94-.94-2.06-.94 2.06-2.06.94zm-11 1L8.5 8.5l.94-2.06 2.06-.94-2.06-.94L8.5 2.5l-.94 2.06-2.06.94zm10 10l.94 2.06.94-2.06 2.06-.94-2.06-.94-.94-2.06-.94 2.06-2.06.94z\"/><path d=\"M17.41 7.96l-1.37-1.37c-.4-.4-.92-.59-1.43-.59-.52 0-1.04.2-1.43.59L10.3 9.45l-7.72 7.72c-.78.78-.78 2.05 0 2.83L4 21.41c.39.39.9.59 1.41.59.51 0 1.02-.2 1.41-.59l7.78-7.78 2.81-2.81c.8-.78.8-2.07 0-2.86zM5.41 20L4 18.59l7.72-7.72 1.47 1.35L5.41 20z\"/>\n",
              "  </svg>\n",
              "      </button>\n",
              "      \n",
              "  <style>\n",
              "    .colab-df-container {\n",
              "      display:flex;\n",
              "      flex-wrap:wrap;\n",
              "      gap: 12px;\n",
              "    }\n",
              "\n",
              "    .colab-df-convert {\n",
              "      background-color: #E8F0FE;\n",
              "      border: none;\n",
              "      border-radius: 50%;\n",
              "      cursor: pointer;\n",
              "      display: none;\n",
              "      fill: #1967D2;\n",
              "      height: 32px;\n",
              "      padding: 0 0 0 0;\n",
              "      width: 32px;\n",
              "    }\n",
              "\n",
              "    .colab-df-convert:hover {\n",
              "      background-color: #E2EBFA;\n",
              "      box-shadow: 0px 1px 2px rgba(60, 64, 67, 0.3), 0px 1px 3px 1px rgba(60, 64, 67, 0.15);\n",
              "      fill: #174EA6;\n",
              "    }\n",
              "\n",
              "    [theme=dark] .colab-df-convert {\n",
              "      background-color: #3B4455;\n",
              "      fill: #D2E3FC;\n",
              "    }\n",
              "\n",
              "    [theme=dark] .colab-df-convert:hover {\n",
              "      background-color: #434B5C;\n",
              "      box-shadow: 0px 1px 3px 1px rgba(0, 0, 0, 0.15);\n",
              "      filter: drop-shadow(0px 1px 2px rgba(0, 0, 0, 0.3));\n",
              "      fill: #FFFFFF;\n",
              "    }\n",
              "  </style>\n",
              "\n",
              "      <script>\n",
              "        const buttonEl =\n",
              "          document.querySelector('#df-818e2220-e4e3-4afe-a534-1bd8ff07008b button.colab-df-convert');\n",
              "        buttonEl.style.display =\n",
              "          google.colab.kernel.accessAllowed ? 'block' : 'none';\n",
              "\n",
              "        async function convertToInteractive(key) {\n",
              "          const element = document.querySelector('#df-818e2220-e4e3-4afe-a534-1bd8ff07008b');\n",
              "          const dataTable =\n",
              "            await google.colab.kernel.invokeFunction('convertToInteractive',\n",
              "                                                     [key], {});\n",
              "          if (!dataTable) return;\n",
              "\n",
              "          const docLinkHtml = 'Like what you see? Visit the ' +\n",
              "            '<a target=\"_blank\" href=https://colab.research.google.com/notebooks/data_table.ipynb>data table notebook</a>'\n",
              "            + ' to learn more about interactive tables.';\n",
              "          element.innerHTML = '';\n",
              "          dataTable['output_type'] = 'display_data';\n",
              "          await google.colab.output.renderOutput(dataTable, element);\n",
              "          const docLink = document.createElement('div');\n",
              "          docLink.innerHTML = docLinkHtml;\n",
              "          element.appendChild(docLink);\n",
              "        }\n",
              "      </script>\n",
              "    </div>\n",
              "  </div>\n",
              "  "
            ]
          },
          "metadata": {},
          "execution_count": 13
        },
        {
          "output_type": "stream",
          "name": "stdout",
          "text": [
            "<class 'pandas.core.frame.DataFrame'>\n",
            "DatetimeIndex: 1236 entries, 2017-04-13 to 2022-04-12\n",
            "Data columns (total 6 columns):\n",
            " #   Column          Non-Null Count  Dtype  \n",
            "---  ------          --------------  -----  \n",
            " 0   Open            1236 non-null   float64\n",
            " 1   High            1236 non-null   float64\n",
            " 2   Low             1236 non-null   float64\n",
            " 3   Close           1236 non-null   float64\n",
            " 4   Adjusted_Close  1236 non-null   float64\n",
            " 5   Volume          1236 non-null   int64  \n",
            "dtypes: float64(5), int64(1)\n",
            "memory usage: 67.6 KB\n"
          ]
        }
      ]
    },
    {
      "cell_type": "code",
      "source": [
        "\"\"\"\n",
        "df = pd.read_csv(stock_datapath , parse_dates=['Date'], infer_datetime_format=True, index_col=0, dayfirst=True)\n",
        "\n",
        "# Remove Space in Col Name\n",
        "df.rename(columns={'Adj Close':'Adjusted_Close'}, inplace=True)\n",
        "\n",
        "# Index using Date\n",
        "df.index = df['Date']\n",
        "df.drop(columns=['Date'], inplace=True)\n",
        "# s.index = pd.DatetimeIndex(s.index)\n",
        "\n",
        "df.head()\n",
        "df.info()\n",
        "\"\"\""
      ],
      "metadata": {
        "id": "9luQkpXrfM1t",
        "colab": {
          "base_uri": "https://localhost:8080/",
          "height": 88
        },
        "outputId": "ab885de7-c073-44a4-8aa8-9c12258737b5"
      },
      "execution_count": null,
      "outputs": [
        {
          "output_type": "execute_result",
          "data": {
            "text/plain": [
              "\"\\ndf = pd.read_csv(stock_datapath , parse_dates=['Date'], infer_datetime_format=True, index_col=0, dayfirst=True)\\n\\n# Remove Space in Col Name\\ndf.rename(columns={'Adj Close':'Adjusted_Close'}, inplace=True)\\n\\n# Index using Date\\ndf.index = df['Date']\\ndf.drop(columns=['Date'], inplace=True)\\n# s.index = pd.DatetimeIndex(s.index)\\n\\ndf.head()\\ndf.info()\\n\""
            ],
            "application/vnd.google.colaboratory.intrinsic+json": {
              "type": "string"
            }
          },
          "metadata": {},
          "execution_count": 14
        }
      ]
    },
    {
      "cell_type": "markdown",
      "source": [
        "## Drop Unnecessary Columns"
      ],
      "metadata": {
        "id": "lbUq_xJ4Qhod"
      }
    },
    {
      "cell_type": "code",
      "source": [
        "# cols_keep_ls = ['Adjusted_Close','High','Low']\n",
        "cols_keep_ls = df.columns\n",
        "cols_drop_ls = list(set(df.columns) - set(cols_keep_ls))\n",
        "df.drop(columns=cols_drop_ls, inplace=True) \n",
        "df.head()"
      ],
      "metadata": {
        "id": "jg9cnAGfQa_f",
        "colab": {
          "base_uri": "https://localhost:8080/",
          "height": 237
        },
        "outputId": "e0a23100-39d9-4124-81dd-00ff5d2febc4"
      },
      "execution_count": null,
      "outputs": [
        {
          "output_type": "execute_result",
          "data": {
            "text/plain": [
              "                 Open       High        Low      Close  Adjusted_Close  Volume\n",
              "Date                                                                          \n",
              "2017-04-13  68.550003  68.599998  66.250000  67.000000       65.432434    6960\n",
              "2017-04-17  69.000000  69.949997  67.650002  68.500000       66.897339   12000\n",
              "2017-04-18  69.099998  70.000000  69.099998  69.099998       67.483299    9726\n",
              "2017-04-19  69.000000  69.849998  69.000000  69.800003       68.166931   10100\n",
              "2017-04-20  69.000000  70.000000  68.000000  69.599998       67.971603    7642"
            ],
            "text/html": [
              "\n",
              "  <div id=\"df-b7434acb-b93f-4a63-8cdb-d9d948683d02\">\n",
              "    <div class=\"colab-df-container\">\n",
              "      <div>\n",
              "<style scoped>\n",
              "    .dataframe tbody tr th:only-of-type {\n",
              "        vertical-align: middle;\n",
              "    }\n",
              "\n",
              "    .dataframe tbody tr th {\n",
              "        vertical-align: top;\n",
              "    }\n",
              "\n",
              "    .dataframe thead th {\n",
              "        text-align: right;\n",
              "    }\n",
              "</style>\n",
              "<table border=\"1\" class=\"dataframe\">\n",
              "  <thead>\n",
              "    <tr style=\"text-align: right;\">\n",
              "      <th></th>\n",
              "      <th>Open</th>\n",
              "      <th>High</th>\n",
              "      <th>Low</th>\n",
              "      <th>Close</th>\n",
              "      <th>Adjusted_Close</th>\n",
              "      <th>Volume</th>\n",
              "    </tr>\n",
              "    <tr>\n",
              "      <th>Date</th>\n",
              "      <th></th>\n",
              "      <th></th>\n",
              "      <th></th>\n",
              "      <th></th>\n",
              "      <th></th>\n",
              "      <th></th>\n",
              "    </tr>\n",
              "  </thead>\n",
              "  <tbody>\n",
              "    <tr>\n",
              "      <th>2017-04-13</th>\n",
              "      <td>68.550003</td>\n",
              "      <td>68.599998</td>\n",
              "      <td>66.250000</td>\n",
              "      <td>67.000000</td>\n",
              "      <td>65.432434</td>\n",
              "      <td>6960</td>\n",
              "    </tr>\n",
              "    <tr>\n",
              "      <th>2017-04-17</th>\n",
              "      <td>69.000000</td>\n",
              "      <td>69.949997</td>\n",
              "      <td>67.650002</td>\n",
              "      <td>68.500000</td>\n",
              "      <td>66.897339</td>\n",
              "      <td>12000</td>\n",
              "    </tr>\n",
              "    <tr>\n",
              "      <th>2017-04-18</th>\n",
              "      <td>69.099998</td>\n",
              "      <td>70.000000</td>\n",
              "      <td>69.099998</td>\n",
              "      <td>69.099998</td>\n",
              "      <td>67.483299</td>\n",
              "      <td>9726</td>\n",
              "    </tr>\n",
              "    <tr>\n",
              "      <th>2017-04-19</th>\n",
              "      <td>69.000000</td>\n",
              "      <td>69.849998</td>\n",
              "      <td>69.000000</td>\n",
              "      <td>69.800003</td>\n",
              "      <td>68.166931</td>\n",
              "      <td>10100</td>\n",
              "    </tr>\n",
              "    <tr>\n",
              "      <th>2017-04-20</th>\n",
              "      <td>69.000000</td>\n",
              "      <td>70.000000</td>\n",
              "      <td>68.000000</td>\n",
              "      <td>69.599998</td>\n",
              "      <td>67.971603</td>\n",
              "      <td>7642</td>\n",
              "    </tr>\n",
              "  </tbody>\n",
              "</table>\n",
              "</div>\n",
              "      <button class=\"colab-df-convert\" onclick=\"convertToInteractive('df-b7434acb-b93f-4a63-8cdb-d9d948683d02')\"\n",
              "              title=\"Convert this dataframe to an interactive table.\"\n",
              "              style=\"display:none;\">\n",
              "        \n",
              "  <svg xmlns=\"http://www.w3.org/2000/svg\" height=\"24px\"viewBox=\"0 0 24 24\"\n",
              "       width=\"24px\">\n",
              "    <path d=\"M0 0h24v24H0V0z\" fill=\"none\"/>\n",
              "    <path d=\"M18.56 5.44l.94 2.06.94-2.06 2.06-.94-2.06-.94-.94-2.06-.94 2.06-2.06.94zm-11 1L8.5 8.5l.94-2.06 2.06-.94-2.06-.94L8.5 2.5l-.94 2.06-2.06.94zm10 10l.94 2.06.94-2.06 2.06-.94-2.06-.94-.94-2.06-.94 2.06-2.06.94z\"/><path d=\"M17.41 7.96l-1.37-1.37c-.4-.4-.92-.59-1.43-.59-.52 0-1.04.2-1.43.59L10.3 9.45l-7.72 7.72c-.78.78-.78 2.05 0 2.83L4 21.41c.39.39.9.59 1.41.59.51 0 1.02-.2 1.41-.59l7.78-7.78 2.81-2.81c.8-.78.8-2.07 0-2.86zM5.41 20L4 18.59l7.72-7.72 1.47 1.35L5.41 20z\"/>\n",
              "  </svg>\n",
              "      </button>\n",
              "      \n",
              "  <style>\n",
              "    .colab-df-container {\n",
              "      display:flex;\n",
              "      flex-wrap:wrap;\n",
              "      gap: 12px;\n",
              "    }\n",
              "\n",
              "    .colab-df-convert {\n",
              "      background-color: #E8F0FE;\n",
              "      border: none;\n",
              "      border-radius: 50%;\n",
              "      cursor: pointer;\n",
              "      display: none;\n",
              "      fill: #1967D2;\n",
              "      height: 32px;\n",
              "      padding: 0 0 0 0;\n",
              "      width: 32px;\n",
              "    }\n",
              "\n",
              "    .colab-df-convert:hover {\n",
              "      background-color: #E2EBFA;\n",
              "      box-shadow: 0px 1px 2px rgba(60, 64, 67, 0.3), 0px 1px 3px 1px rgba(60, 64, 67, 0.15);\n",
              "      fill: #174EA6;\n",
              "    }\n",
              "\n",
              "    [theme=dark] .colab-df-convert {\n",
              "      background-color: #3B4455;\n",
              "      fill: #D2E3FC;\n",
              "    }\n",
              "\n",
              "    [theme=dark] .colab-df-convert:hover {\n",
              "      background-color: #434B5C;\n",
              "      box-shadow: 0px 1px 3px 1px rgba(0, 0, 0, 0.15);\n",
              "      filter: drop-shadow(0px 1px 2px rgba(0, 0, 0, 0.3));\n",
              "      fill: #FFFFFF;\n",
              "    }\n",
              "  </style>\n",
              "\n",
              "      <script>\n",
              "        const buttonEl =\n",
              "          document.querySelector('#df-b7434acb-b93f-4a63-8cdb-d9d948683d02 button.colab-df-convert');\n",
              "        buttonEl.style.display =\n",
              "          google.colab.kernel.accessAllowed ? 'block' : 'none';\n",
              "\n",
              "        async function convertToInteractive(key) {\n",
              "          const element = document.querySelector('#df-b7434acb-b93f-4a63-8cdb-d9d948683d02');\n",
              "          const dataTable =\n",
              "            await google.colab.kernel.invokeFunction('convertToInteractive',\n",
              "                                                     [key], {});\n",
              "          if (!dataTable) return;\n",
              "\n",
              "          const docLinkHtml = 'Like what you see? Visit the ' +\n",
              "            '<a target=\"_blank\" href=https://colab.research.google.com/notebooks/data_table.ipynb>data table notebook</a>'\n",
              "            + ' to learn more about interactive tables.';\n",
              "          element.innerHTML = '';\n",
              "          dataTable['output_type'] = 'display_data';\n",
              "          await google.colab.output.renderOutput(dataTable, element);\n",
              "          const docLink = document.createElement('div');\n",
              "          docLink.innerHTML = docLinkHtml;\n",
              "          element.appendChild(docLink);\n",
              "        }\n",
              "      </script>\n",
              "    </div>\n",
              "  </div>\n",
              "  "
            ]
          },
          "metadata": {},
          "execution_count": 15
        }
      ]
    },
    {
      "cell_type": "markdown",
      "source": [
        "## Drop Rows with Nulls"
      ],
      "metadata": {
        "id": "YZqkgffBMFpU"
      }
    },
    {
      "cell_type": "code",
      "source": [
        "df.head()\n",
        "df.tail()\n",
        "df.info()"
      ],
      "metadata": {
        "id": "YSn5npn8vChS",
        "colab": {
          "base_uri": "https://localhost:8080/",
          "height": 690
        },
        "outputId": "35bbed33-17f4-4c27-def6-401a3037e915"
      },
      "execution_count": null,
      "outputs": [
        {
          "output_type": "execute_result",
          "data": {
            "text/plain": [
              "                 Open       High        Low      Close  Adjusted_Close  Volume\n",
              "Date                                                                          \n",
              "2017-04-13  68.550003  68.599998  66.250000  67.000000       65.432434    6960\n",
              "2017-04-17  69.000000  69.949997  67.650002  68.500000       66.897339   12000\n",
              "2017-04-18  69.099998  70.000000  69.099998  69.099998       67.483299    9726\n",
              "2017-04-19  69.000000  69.849998  69.000000  69.800003       68.166931   10100\n",
              "2017-04-20  69.000000  70.000000  68.000000  69.599998       67.971603    7642"
            ],
            "text/html": [
              "\n",
              "  <div id=\"df-04c01001-6120-4a5a-8924-664b8b884a7d\">\n",
              "    <div class=\"colab-df-container\">\n",
              "      <div>\n",
              "<style scoped>\n",
              "    .dataframe tbody tr th:only-of-type {\n",
              "        vertical-align: middle;\n",
              "    }\n",
              "\n",
              "    .dataframe tbody tr th {\n",
              "        vertical-align: top;\n",
              "    }\n",
              "\n",
              "    .dataframe thead th {\n",
              "        text-align: right;\n",
              "    }\n",
              "</style>\n",
              "<table border=\"1\" class=\"dataframe\">\n",
              "  <thead>\n",
              "    <tr style=\"text-align: right;\">\n",
              "      <th></th>\n",
              "      <th>Open</th>\n",
              "      <th>High</th>\n",
              "      <th>Low</th>\n",
              "      <th>Close</th>\n",
              "      <th>Adjusted_Close</th>\n",
              "      <th>Volume</th>\n",
              "    </tr>\n",
              "    <tr>\n",
              "      <th>Date</th>\n",
              "      <th></th>\n",
              "      <th></th>\n",
              "      <th></th>\n",
              "      <th></th>\n",
              "      <th></th>\n",
              "      <th></th>\n",
              "    </tr>\n",
              "  </thead>\n",
              "  <tbody>\n",
              "    <tr>\n",
              "      <th>2017-04-13</th>\n",
              "      <td>68.550003</td>\n",
              "      <td>68.599998</td>\n",
              "      <td>66.250000</td>\n",
              "      <td>67.000000</td>\n",
              "      <td>65.432434</td>\n",
              "      <td>6960</td>\n",
              "    </tr>\n",
              "    <tr>\n",
              "      <th>2017-04-17</th>\n",
              "      <td>69.000000</td>\n",
              "      <td>69.949997</td>\n",
              "      <td>67.650002</td>\n",
              "      <td>68.500000</td>\n",
              "      <td>66.897339</td>\n",
              "      <td>12000</td>\n",
              "    </tr>\n",
              "    <tr>\n",
              "      <th>2017-04-18</th>\n",
              "      <td>69.099998</td>\n",
              "      <td>70.000000</td>\n",
              "      <td>69.099998</td>\n",
              "      <td>69.099998</td>\n",
              "      <td>67.483299</td>\n",
              "      <td>9726</td>\n",
              "    </tr>\n",
              "    <tr>\n",
              "      <th>2017-04-19</th>\n",
              "      <td>69.000000</td>\n",
              "      <td>69.849998</td>\n",
              "      <td>69.000000</td>\n",
              "      <td>69.800003</td>\n",
              "      <td>68.166931</td>\n",
              "      <td>10100</td>\n",
              "    </tr>\n",
              "    <tr>\n",
              "      <th>2017-04-20</th>\n",
              "      <td>69.000000</td>\n",
              "      <td>70.000000</td>\n",
              "      <td>68.000000</td>\n",
              "      <td>69.599998</td>\n",
              "      <td>67.971603</td>\n",
              "      <td>7642</td>\n",
              "    </tr>\n",
              "  </tbody>\n",
              "</table>\n",
              "</div>\n",
              "      <button class=\"colab-df-convert\" onclick=\"convertToInteractive('df-04c01001-6120-4a5a-8924-664b8b884a7d')\"\n",
              "              title=\"Convert this dataframe to an interactive table.\"\n",
              "              style=\"display:none;\">\n",
              "        \n",
              "  <svg xmlns=\"http://www.w3.org/2000/svg\" height=\"24px\"viewBox=\"0 0 24 24\"\n",
              "       width=\"24px\">\n",
              "    <path d=\"M0 0h24v24H0V0z\" fill=\"none\"/>\n",
              "    <path d=\"M18.56 5.44l.94 2.06.94-2.06 2.06-.94-2.06-.94-.94-2.06-.94 2.06-2.06.94zm-11 1L8.5 8.5l.94-2.06 2.06-.94-2.06-.94L8.5 2.5l-.94 2.06-2.06.94zm10 10l.94 2.06.94-2.06 2.06-.94-2.06-.94-.94-2.06-.94 2.06-2.06.94z\"/><path d=\"M17.41 7.96l-1.37-1.37c-.4-.4-.92-.59-1.43-.59-.52 0-1.04.2-1.43.59L10.3 9.45l-7.72 7.72c-.78.78-.78 2.05 0 2.83L4 21.41c.39.39.9.59 1.41.59.51 0 1.02-.2 1.41-.59l7.78-7.78 2.81-2.81c.8-.78.8-2.07 0-2.86zM5.41 20L4 18.59l7.72-7.72 1.47 1.35L5.41 20z\"/>\n",
              "  </svg>\n",
              "      </button>\n",
              "      \n",
              "  <style>\n",
              "    .colab-df-container {\n",
              "      display:flex;\n",
              "      flex-wrap:wrap;\n",
              "      gap: 12px;\n",
              "    }\n",
              "\n",
              "    .colab-df-convert {\n",
              "      background-color: #E8F0FE;\n",
              "      border: none;\n",
              "      border-radius: 50%;\n",
              "      cursor: pointer;\n",
              "      display: none;\n",
              "      fill: #1967D2;\n",
              "      height: 32px;\n",
              "      padding: 0 0 0 0;\n",
              "      width: 32px;\n",
              "    }\n",
              "\n",
              "    .colab-df-convert:hover {\n",
              "      background-color: #E2EBFA;\n",
              "      box-shadow: 0px 1px 2px rgba(60, 64, 67, 0.3), 0px 1px 3px 1px rgba(60, 64, 67, 0.15);\n",
              "      fill: #174EA6;\n",
              "    }\n",
              "\n",
              "    [theme=dark] .colab-df-convert {\n",
              "      background-color: #3B4455;\n",
              "      fill: #D2E3FC;\n",
              "    }\n",
              "\n",
              "    [theme=dark] .colab-df-convert:hover {\n",
              "      background-color: #434B5C;\n",
              "      box-shadow: 0px 1px 3px 1px rgba(0, 0, 0, 0.15);\n",
              "      filter: drop-shadow(0px 1px 2px rgba(0, 0, 0, 0.3));\n",
              "      fill: #FFFFFF;\n",
              "    }\n",
              "  </style>\n",
              "\n",
              "      <script>\n",
              "        const buttonEl =\n",
              "          document.querySelector('#df-04c01001-6120-4a5a-8924-664b8b884a7d button.colab-df-convert');\n",
              "        buttonEl.style.display =\n",
              "          google.colab.kernel.accessAllowed ? 'block' : 'none';\n",
              "\n",
              "        async function convertToInteractive(key) {\n",
              "          const element = document.querySelector('#df-04c01001-6120-4a5a-8924-664b8b884a7d');\n",
              "          const dataTable =\n",
              "            await google.colab.kernel.invokeFunction('convertToInteractive',\n",
              "                                                     [key], {});\n",
              "          if (!dataTable) return;\n",
              "\n",
              "          const docLinkHtml = 'Like what you see? Visit the ' +\n",
              "            '<a target=\"_blank\" href=https://colab.research.google.com/notebooks/data_table.ipynb>data table notebook</a>'\n",
              "            + ' to learn more about interactive tables.';\n",
              "          element.innerHTML = '';\n",
              "          dataTable['output_type'] = 'display_data';\n",
              "          await google.colab.output.renderOutput(dataTable, element);\n",
              "          const docLink = document.createElement('div');\n",
              "          docLink.innerHTML = docLinkHtml;\n",
              "          element.appendChild(docLink);\n",
              "        }\n",
              "      </script>\n",
              "    </div>\n",
              "  </div>\n",
              "  "
            ]
          },
          "metadata": {},
          "execution_count": 16
        },
        {
          "output_type": "execute_result",
          "data": {
            "text/plain": [
              "                 Open       High        Low      Close  Adjusted_Close  Volume\n",
              "Date                                                                          \n",
              "2022-04-06  41.599998  41.599998  41.020000  41.599998       41.599998   44120\n",
              "2022-04-07  43.610001  43.680000  39.520000  43.400002       43.400002  126920\n",
              "2022-04-08  44.799999  45.220001  41.259998  43.950001       43.950001   54465\n",
              "2022-04-11  45.540001  45.540001  41.759998  44.369999       44.369999  444175\n",
              "2022-04-12  46.400002  46.549999  45.900002  46.500000       46.500000   46349"
            ],
            "text/html": [
              "\n",
              "  <div id=\"df-b11ce988-f8be-4ba7-ae71-d2f1387bbd64\">\n",
              "    <div class=\"colab-df-container\">\n",
              "      <div>\n",
              "<style scoped>\n",
              "    .dataframe tbody tr th:only-of-type {\n",
              "        vertical-align: middle;\n",
              "    }\n",
              "\n",
              "    .dataframe tbody tr th {\n",
              "        vertical-align: top;\n",
              "    }\n",
              "\n",
              "    .dataframe thead th {\n",
              "        text-align: right;\n",
              "    }\n",
              "</style>\n",
              "<table border=\"1\" class=\"dataframe\">\n",
              "  <thead>\n",
              "    <tr style=\"text-align: right;\">\n",
              "      <th></th>\n",
              "      <th>Open</th>\n",
              "      <th>High</th>\n",
              "      <th>Low</th>\n",
              "      <th>Close</th>\n",
              "      <th>Adjusted_Close</th>\n",
              "      <th>Volume</th>\n",
              "    </tr>\n",
              "    <tr>\n",
              "      <th>Date</th>\n",
              "      <th></th>\n",
              "      <th></th>\n",
              "      <th></th>\n",
              "      <th></th>\n",
              "      <th></th>\n",
              "      <th></th>\n",
              "    </tr>\n",
              "  </thead>\n",
              "  <tbody>\n",
              "    <tr>\n",
              "      <th>2022-04-06</th>\n",
              "      <td>41.599998</td>\n",
              "      <td>41.599998</td>\n",
              "      <td>41.020000</td>\n",
              "      <td>41.599998</td>\n",
              "      <td>41.599998</td>\n",
              "      <td>44120</td>\n",
              "    </tr>\n",
              "    <tr>\n",
              "      <th>2022-04-07</th>\n",
              "      <td>43.610001</td>\n",
              "      <td>43.680000</td>\n",
              "      <td>39.520000</td>\n",
              "      <td>43.400002</td>\n",
              "      <td>43.400002</td>\n",
              "      <td>126920</td>\n",
              "    </tr>\n",
              "    <tr>\n",
              "      <th>2022-04-08</th>\n",
              "      <td>44.799999</td>\n",
              "      <td>45.220001</td>\n",
              "      <td>41.259998</td>\n",
              "      <td>43.950001</td>\n",
              "      <td>43.950001</td>\n",
              "      <td>54465</td>\n",
              "    </tr>\n",
              "    <tr>\n",
              "      <th>2022-04-11</th>\n",
              "      <td>45.540001</td>\n",
              "      <td>45.540001</td>\n",
              "      <td>41.759998</td>\n",
              "      <td>44.369999</td>\n",
              "      <td>44.369999</td>\n",
              "      <td>444175</td>\n",
              "    </tr>\n",
              "    <tr>\n",
              "      <th>2022-04-12</th>\n",
              "      <td>46.400002</td>\n",
              "      <td>46.549999</td>\n",
              "      <td>45.900002</td>\n",
              "      <td>46.500000</td>\n",
              "      <td>46.500000</td>\n",
              "      <td>46349</td>\n",
              "    </tr>\n",
              "  </tbody>\n",
              "</table>\n",
              "</div>\n",
              "      <button class=\"colab-df-convert\" onclick=\"convertToInteractive('df-b11ce988-f8be-4ba7-ae71-d2f1387bbd64')\"\n",
              "              title=\"Convert this dataframe to an interactive table.\"\n",
              "              style=\"display:none;\">\n",
              "        \n",
              "  <svg xmlns=\"http://www.w3.org/2000/svg\" height=\"24px\"viewBox=\"0 0 24 24\"\n",
              "       width=\"24px\">\n",
              "    <path d=\"M0 0h24v24H0V0z\" fill=\"none\"/>\n",
              "    <path d=\"M18.56 5.44l.94 2.06.94-2.06 2.06-.94-2.06-.94-.94-2.06-.94 2.06-2.06.94zm-11 1L8.5 8.5l.94-2.06 2.06-.94-2.06-.94L8.5 2.5l-.94 2.06-2.06.94zm10 10l.94 2.06.94-2.06 2.06-.94-2.06-.94-.94-2.06-.94 2.06-2.06.94z\"/><path d=\"M17.41 7.96l-1.37-1.37c-.4-.4-.92-.59-1.43-.59-.52 0-1.04.2-1.43.59L10.3 9.45l-7.72 7.72c-.78.78-.78 2.05 0 2.83L4 21.41c.39.39.9.59 1.41.59.51 0 1.02-.2 1.41-.59l7.78-7.78 2.81-2.81c.8-.78.8-2.07 0-2.86zM5.41 20L4 18.59l7.72-7.72 1.47 1.35L5.41 20z\"/>\n",
              "  </svg>\n",
              "      </button>\n",
              "      \n",
              "  <style>\n",
              "    .colab-df-container {\n",
              "      display:flex;\n",
              "      flex-wrap:wrap;\n",
              "      gap: 12px;\n",
              "    }\n",
              "\n",
              "    .colab-df-convert {\n",
              "      background-color: #E8F0FE;\n",
              "      border: none;\n",
              "      border-radius: 50%;\n",
              "      cursor: pointer;\n",
              "      display: none;\n",
              "      fill: #1967D2;\n",
              "      height: 32px;\n",
              "      padding: 0 0 0 0;\n",
              "      width: 32px;\n",
              "    }\n",
              "\n",
              "    .colab-df-convert:hover {\n",
              "      background-color: #E2EBFA;\n",
              "      box-shadow: 0px 1px 2px rgba(60, 64, 67, 0.3), 0px 1px 3px 1px rgba(60, 64, 67, 0.15);\n",
              "      fill: #174EA6;\n",
              "    }\n",
              "\n",
              "    [theme=dark] .colab-df-convert {\n",
              "      background-color: #3B4455;\n",
              "      fill: #D2E3FC;\n",
              "    }\n",
              "\n",
              "    [theme=dark] .colab-df-convert:hover {\n",
              "      background-color: #434B5C;\n",
              "      box-shadow: 0px 1px 3px 1px rgba(0, 0, 0, 0.15);\n",
              "      filter: drop-shadow(0px 1px 2px rgba(0, 0, 0, 0.3));\n",
              "      fill: #FFFFFF;\n",
              "    }\n",
              "  </style>\n",
              "\n",
              "      <script>\n",
              "        const buttonEl =\n",
              "          document.querySelector('#df-b11ce988-f8be-4ba7-ae71-d2f1387bbd64 button.colab-df-convert');\n",
              "        buttonEl.style.display =\n",
              "          google.colab.kernel.accessAllowed ? 'block' : 'none';\n",
              "\n",
              "        async function convertToInteractive(key) {\n",
              "          const element = document.querySelector('#df-b11ce988-f8be-4ba7-ae71-d2f1387bbd64');\n",
              "          const dataTable =\n",
              "            await google.colab.kernel.invokeFunction('convertToInteractive',\n",
              "                                                     [key], {});\n",
              "          if (!dataTable) return;\n",
              "\n",
              "          const docLinkHtml = 'Like what you see? Visit the ' +\n",
              "            '<a target=\"_blank\" href=https://colab.research.google.com/notebooks/data_table.ipynb>data table notebook</a>'\n",
              "            + ' to learn more about interactive tables.';\n",
              "          element.innerHTML = '';\n",
              "          dataTable['output_type'] = 'display_data';\n",
              "          await google.colab.output.renderOutput(dataTable, element);\n",
              "          const docLink = document.createElement('div');\n",
              "          docLink.innerHTML = docLinkHtml;\n",
              "          element.appendChild(docLink);\n",
              "        }\n",
              "      </script>\n",
              "    </div>\n",
              "  </div>\n",
              "  "
            ]
          },
          "metadata": {},
          "execution_count": 16
        },
        {
          "output_type": "stream",
          "name": "stdout",
          "text": [
            "<class 'pandas.core.frame.DataFrame'>\n",
            "DatetimeIndex: 1236 entries, 2017-04-13 to 2022-04-12\n",
            "Data columns (total 6 columns):\n",
            " #   Column          Non-Null Count  Dtype  \n",
            "---  ------          --------------  -----  \n",
            " 0   Open            1236 non-null   float64\n",
            " 1   High            1236 non-null   float64\n",
            " 2   Low             1236 non-null   float64\n",
            " 3   Close           1236 non-null   float64\n",
            " 4   Adjusted_Close  1236 non-null   float64\n",
            " 5   Volume          1236 non-null   int64  \n",
            "dtypes: float64(5), int64(1)\n",
            "memory usage: 67.6 KB\n"
          ]
        }
      ]
    },
    {
      "cell_type": "code",
      "source": [
        "# How many Nulls per column\n",
        "\n",
        "row_null_ct = df.isnull().sum().sum()\n",
        "row_all_ct = df.shape[0]\n",
        "\n",
        "row_per_null_ct = row_null_ct/row_all_ct\n",
        "\n",
        "if row_null_ct > 0:\n",
        "\n",
        "  test_str = str(df.isnull().sum())\n",
        "  print(f'\\nNulls by Column:\\n----------------\\n{test_str}\\n')\n",
        "\n",
        "  print(f'\\nRow Count with any Null: [{row_null_ct}]')\n",
        "\n",
        "  print(f'\\n\\nRow Count Total: [{row_all_ct}]')\n",
        "\n",
        "  print(f'\\n\\nPercent of Rows with Null: [{100*row_per_null_ct:.3f}%]')\n",
        "\n",
        "else:\n",
        "\n",
        "  print('There are no Nulls in this dataset')"
      ],
      "metadata": {
        "id": "J2VnccvhA6JR",
        "colab": {
          "base_uri": "https://localhost:8080/"
        },
        "outputId": "157d77c7-7acf-40f3-9fd3-d812e8e1a07e"
      },
      "execution_count": null,
      "outputs": [
        {
          "output_type": "stream",
          "name": "stdout",
          "text": [
            "There are no Nulls in this dataset\n"
          ]
        }
      ]
    },
    {
      "cell_type": "code",
      "source": [
        "# Set %Rows with Nulls Threshold and\n",
        "#   drop any row with Null if below threshold\n",
        "\n",
        "DROP_NULL_ROW_PER = 5  # 0.485  # Percent of rows with any Nulls that can be safely dropped\n",
        " \n",
        "if DROP_NULL_ROW_PER > 100*row_per_null_ct:\n",
        "  print(f'Can safely drop all Rows with Nulls (Threshold={DROP_NULL_ROW_PER}% > {100*row_per_null_ct:.3f}%)')\n",
        "  print(f'  BEFORE: DataFrame.shape before NULL Rows Dropped: {df.shape[0]}')\n",
        "  df = df.dropna()\n",
        "  print(f'  AFTER: DataFrame.shape after Null Rows Dropped: {df.shape[0]}')\n",
        "  # row_nonull_ct = df.shape[0]\n",
        "  # print(f'\\n  Dropped {row_wnull_ct-row_all_ct}') \n",
        "\n",
        "else:\n",
        "  print(f'WARNING: Rows with Null Count exceeds Threshold (Threshold={DROP_NULL_ROW_PER}% < {100*row_per_null_ct:.3f}%)')\n",
        "  print('\\nSUGGESTION:')\n",
        "  print('  (a) Drop Columns that are not of interest and try again')\n",
        "  print('  (b) If (1) does not work, use DataFrame imputation methods (linear, ff, fb) to fill in missing values')\n"
      ],
      "metadata": {
        "id": "sBUkyd9mDite",
        "colab": {
          "base_uri": "https://localhost:8080/"
        },
        "outputId": "1d170c7c-b5a4-488e-9569-c099d2edc3e1"
      },
      "execution_count": null,
      "outputs": [
        {
          "output_type": "stream",
          "name": "stdout",
          "text": [
            "Can safely drop all Rows with Nulls (Threshold=5% > 0.000%)\n",
            "  BEFORE: DataFrame.shape before NULL Rows Dropped: 1236\n",
            "  AFTER: DataFrame.shape after Null Rows Dropped: 1236\n"
          ]
        }
      ]
    },
    {
      "cell_type": "code",
      "source": [
        "df.shape"
      ],
      "metadata": {
        "id": "64AcTd41LHcT",
        "colab": {
          "base_uri": "https://localhost:8080/"
        },
        "outputId": "ce326973-d16f-4a1a-c8ad-6366fcc5a173"
      },
      "execution_count": null,
      "outputs": [
        {
          "output_type": "execute_result",
          "data": {
            "text/plain": [
              "(1236, 6)"
            ]
          },
          "metadata": {},
          "execution_count": 19
        }
      ]
    },
    {
      "cell_type": "markdown",
      "source": [
        "## Impute Missing Dates"
      ],
      "metadata": {
        "id": "W6E89koAMLIy"
      }
    },
    {
      "cell_type": "code",
      "source": [
        "df.head()"
      ],
      "metadata": {
        "id": "eUWh9_04PJ5c",
        "colab": {
          "base_uri": "https://localhost:8080/",
          "height": 237
        },
        "outputId": "33fde498-cdd5-470e-a9f2-d80cf1fc9498"
      },
      "execution_count": null,
      "outputs": [
        {
          "output_type": "execute_result",
          "data": {
            "text/plain": [
              "                 Open       High        Low      Close  Adjusted_Close  Volume\n",
              "Date                                                                          \n",
              "2017-04-13  68.550003  68.599998  66.250000  67.000000       65.432434    6960\n",
              "2017-04-17  69.000000  69.949997  67.650002  68.500000       66.897339   12000\n",
              "2017-04-18  69.099998  70.000000  69.099998  69.099998       67.483299    9726\n",
              "2017-04-19  69.000000  69.849998  69.000000  69.800003       68.166931   10100\n",
              "2017-04-20  69.000000  70.000000  68.000000  69.599998       67.971603    7642"
            ],
            "text/html": [
              "\n",
              "  <div id=\"df-20cf4002-740c-4d68-9668-69856c5c309f\">\n",
              "    <div class=\"colab-df-container\">\n",
              "      <div>\n",
              "<style scoped>\n",
              "    .dataframe tbody tr th:only-of-type {\n",
              "        vertical-align: middle;\n",
              "    }\n",
              "\n",
              "    .dataframe tbody tr th {\n",
              "        vertical-align: top;\n",
              "    }\n",
              "\n",
              "    .dataframe thead th {\n",
              "        text-align: right;\n",
              "    }\n",
              "</style>\n",
              "<table border=\"1\" class=\"dataframe\">\n",
              "  <thead>\n",
              "    <tr style=\"text-align: right;\">\n",
              "      <th></th>\n",
              "      <th>Open</th>\n",
              "      <th>High</th>\n",
              "      <th>Low</th>\n",
              "      <th>Close</th>\n",
              "      <th>Adjusted_Close</th>\n",
              "      <th>Volume</th>\n",
              "    </tr>\n",
              "    <tr>\n",
              "      <th>Date</th>\n",
              "      <th></th>\n",
              "      <th></th>\n",
              "      <th></th>\n",
              "      <th></th>\n",
              "      <th></th>\n",
              "      <th></th>\n",
              "    </tr>\n",
              "  </thead>\n",
              "  <tbody>\n",
              "    <tr>\n",
              "      <th>2017-04-13</th>\n",
              "      <td>68.550003</td>\n",
              "      <td>68.599998</td>\n",
              "      <td>66.250000</td>\n",
              "      <td>67.000000</td>\n",
              "      <td>65.432434</td>\n",
              "      <td>6960</td>\n",
              "    </tr>\n",
              "    <tr>\n",
              "      <th>2017-04-17</th>\n",
              "      <td>69.000000</td>\n",
              "      <td>69.949997</td>\n",
              "      <td>67.650002</td>\n",
              "      <td>68.500000</td>\n",
              "      <td>66.897339</td>\n",
              "      <td>12000</td>\n",
              "    </tr>\n",
              "    <tr>\n",
              "      <th>2017-04-18</th>\n",
              "      <td>69.099998</td>\n",
              "      <td>70.000000</td>\n",
              "      <td>69.099998</td>\n",
              "      <td>69.099998</td>\n",
              "      <td>67.483299</td>\n",
              "      <td>9726</td>\n",
              "    </tr>\n",
              "    <tr>\n",
              "      <th>2017-04-19</th>\n",
              "      <td>69.000000</td>\n",
              "      <td>69.849998</td>\n",
              "      <td>69.000000</td>\n",
              "      <td>69.800003</td>\n",
              "      <td>68.166931</td>\n",
              "      <td>10100</td>\n",
              "    </tr>\n",
              "    <tr>\n",
              "      <th>2017-04-20</th>\n",
              "      <td>69.000000</td>\n",
              "      <td>70.000000</td>\n",
              "      <td>68.000000</td>\n",
              "      <td>69.599998</td>\n",
              "      <td>67.971603</td>\n",
              "      <td>7642</td>\n",
              "    </tr>\n",
              "  </tbody>\n",
              "</table>\n",
              "</div>\n",
              "      <button class=\"colab-df-convert\" onclick=\"convertToInteractive('df-20cf4002-740c-4d68-9668-69856c5c309f')\"\n",
              "              title=\"Convert this dataframe to an interactive table.\"\n",
              "              style=\"display:none;\">\n",
              "        \n",
              "  <svg xmlns=\"http://www.w3.org/2000/svg\" height=\"24px\"viewBox=\"0 0 24 24\"\n",
              "       width=\"24px\">\n",
              "    <path d=\"M0 0h24v24H0V0z\" fill=\"none\"/>\n",
              "    <path d=\"M18.56 5.44l.94 2.06.94-2.06 2.06-.94-2.06-.94-.94-2.06-.94 2.06-2.06.94zm-11 1L8.5 8.5l.94-2.06 2.06-.94-2.06-.94L8.5 2.5l-.94 2.06-2.06.94zm10 10l.94 2.06.94-2.06 2.06-.94-2.06-.94-.94-2.06-.94 2.06-2.06.94z\"/><path d=\"M17.41 7.96l-1.37-1.37c-.4-.4-.92-.59-1.43-.59-.52 0-1.04.2-1.43.59L10.3 9.45l-7.72 7.72c-.78.78-.78 2.05 0 2.83L4 21.41c.39.39.9.59 1.41.59.51 0 1.02-.2 1.41-.59l7.78-7.78 2.81-2.81c.8-.78.8-2.07 0-2.86zM5.41 20L4 18.59l7.72-7.72 1.47 1.35L5.41 20z\"/>\n",
              "  </svg>\n",
              "      </button>\n",
              "      \n",
              "  <style>\n",
              "    .colab-df-container {\n",
              "      display:flex;\n",
              "      flex-wrap:wrap;\n",
              "      gap: 12px;\n",
              "    }\n",
              "\n",
              "    .colab-df-convert {\n",
              "      background-color: #E8F0FE;\n",
              "      border: none;\n",
              "      border-radius: 50%;\n",
              "      cursor: pointer;\n",
              "      display: none;\n",
              "      fill: #1967D2;\n",
              "      height: 32px;\n",
              "      padding: 0 0 0 0;\n",
              "      width: 32px;\n",
              "    }\n",
              "\n",
              "    .colab-df-convert:hover {\n",
              "      background-color: #E2EBFA;\n",
              "      box-shadow: 0px 1px 2px rgba(60, 64, 67, 0.3), 0px 1px 3px 1px rgba(60, 64, 67, 0.15);\n",
              "      fill: #174EA6;\n",
              "    }\n",
              "\n",
              "    [theme=dark] .colab-df-convert {\n",
              "      background-color: #3B4455;\n",
              "      fill: #D2E3FC;\n",
              "    }\n",
              "\n",
              "    [theme=dark] .colab-df-convert:hover {\n",
              "      background-color: #434B5C;\n",
              "      box-shadow: 0px 1px 3px 1px rgba(0, 0, 0, 0.15);\n",
              "      filter: drop-shadow(0px 1px 2px rgba(0, 0, 0, 0.3));\n",
              "      fill: #FFFFFF;\n",
              "    }\n",
              "  </style>\n",
              "\n",
              "      <script>\n",
              "        const buttonEl =\n",
              "          document.querySelector('#df-20cf4002-740c-4d68-9668-69856c5c309f button.colab-df-convert');\n",
              "        buttonEl.style.display =\n",
              "          google.colab.kernel.accessAllowed ? 'block' : 'none';\n",
              "\n",
              "        async function convertToInteractive(key) {\n",
              "          const element = document.querySelector('#df-20cf4002-740c-4d68-9668-69856c5c309f');\n",
              "          const dataTable =\n",
              "            await google.colab.kernel.invokeFunction('convertToInteractive',\n",
              "                                                     [key], {});\n",
              "          if (!dataTable) return;\n",
              "\n",
              "          const docLinkHtml = 'Like what you see? Visit the ' +\n",
              "            '<a target=\"_blank\" href=https://colab.research.google.com/notebooks/data_table.ipynb>data table notebook</a>'\n",
              "            + ' to learn more about interactive tables.';\n",
              "          element.innerHTML = '';\n",
              "          dataTable['output_type'] = 'display_data';\n",
              "          await google.colab.output.renderOutput(dataTable, element);\n",
              "          const docLink = document.createElement('div');\n",
              "          docLink.innerHTML = docLinkHtml;\n",
              "          element.appendChild(docLink);\n",
              "        }\n",
              "      </script>\n",
              "    </div>\n",
              "  </div>\n",
              "  "
            ]
          },
          "metadata": {},
          "execution_count": 20
        }
      ]
    },
    {
      "cell_type": "code",
      "source": [
        "# s = s.reindex(idx, fill_value=0)"
      ],
      "metadata": {
        "id": "QgAnOPluMN6J"
      },
      "execution_count": null,
      "outputs": []
    },
    {
      "cell_type": "code",
      "source": [
        "df.index.min()"
      ],
      "metadata": {
        "id": "3dHnm4vfBSHv",
        "colab": {
          "base_uri": "https://localhost:8080/"
        },
        "outputId": "ed4d967e-aee2-4c6f-a4bc-aa9ddb8cd05c"
      },
      "execution_count": null,
      "outputs": [
        {
          "output_type": "execute_result",
          "data": {
            "text/plain": [
              "Timestamp('2017-04-13 00:00:00')"
            ]
          },
          "metadata": {},
          "execution_count": 22
        }
      ]
    },
    {
      "cell_type": "code",
      "source": [
        "idx = pd.date_range(df.index.min(), df.index.max())\n",
        "\n",
        "s = pd.Series({\n",
        "    '09-02-2020': 2,\n",
        "    '09-03-2020': 1,\n",
        "    '09-06-2020': 5,\n",
        "    '09-07-2020': 1\n",
        "})\n",
        "\n",
        "df.index = pd.DatetimeIndex(df.index)\n",
        "\n",
        "df = df.reindex(idx, fill_value=np.nan)\n",
        "df"
      ],
      "metadata": {
        "id": "-glV3G2y-xDa"
      },
      "execution_count": null,
      "outputs": []
    },
    {
      "cell_type": "markdown",
      "source": [
        "## Inpute Missing Values"
      ],
      "metadata": {
        "id": "wk-W6hEcQlLT"
      }
    },
    {
      "cell_type": "code",
      "source": [
        "df"
      ],
      "metadata": {
        "id": "C2ErNJIODF-E"
      },
      "execution_count": null,
      "outputs": []
    },
    {
      "cell_type": "code",
      "source": [
        "_ = df['Adjusted_Close'].rolling(200, center=True, min_periods=0).mean().plot()"
      ],
      "metadata": {
        "id": "U3myUTASDCde"
      },
      "execution_count": null,
      "outputs": []
    },
    {
      "cell_type": "code",
      "source": [
        "df['Adjusted_Close'].interpolate(method='polynomial', order=3, limit_direction='both', inplace=True)\n",
        "_ = df['Adjusted_Close'].plot()\n",
        "_ = df['Adjusted_Close'].rolling(200, center=True, min_periods=0).mean().plot()\n"
      ],
      "metadata": {
        "id": "DYJOPm3LQlBI"
      },
      "execution_count": null,
      "outputs": []
    },
    {
      "cell_type": "code",
      "source": [
        "df"
      ],
      "metadata": {
        "id": "tfiFhdGtQk-K"
      },
      "execution_count": null,
      "outputs": []
    },
    {
      "cell_type": "markdown",
      "source": [
        "# Plots"
      ],
      "metadata": {
        "id": "2KkUZZ1mR6q3"
      }
    },
    {
      "cell_type": "markdown",
      "source": [
        "## EDA Plot"
      ],
      "metadata": {
        "id": "XI0Ng3_VR8pr"
      }
    },
    {
      "cell_type": "code",
      "source": [
        "df.info()"
      ],
      "metadata": {
        "id": "OtPAeGRugXWB"
      },
      "execution_count": null,
      "outputs": []
    },
    {
      "cell_type": "code",
      "source": [
        "plt.rcParams['font.size'] = 18\n",
        "fig, ax = plt.subplots(figsize = (20,10))\n",
        "\n",
        "_ = ax.plot(df.index, df.Adjusted_Close, label = f'{stock_name}')\n",
        "\n",
        "_ = ax.legend()\n",
        "_ = ax.grid(True)\n",
        "ax.set_ylabel('Adjusted Close')\n",
        "ax.set_title(f'Detecting Pump and Dump Time Series Signature')\n",
        "\n",
        "_ = plt.show();"
      ],
      "metadata": {
        "id": "VTD3YVrWm1EZ"
      },
      "execution_count": null,
      "outputs": []
    },
    {
      "cell_type": "markdown",
      "source": [
        "# LOWESS Smoothing"
      ],
      "metadata": {
        "id": "yuIXOKGDMEBb"
      }
    },
    {
      "cell_type": "code",
      "source": [
        "# Compute LOWESS \n",
        "\n",
        "# ------- Select variables -------\n",
        "# y values for both\n",
        "# y=df['roberta15lg'].values\n",
        "y=df['Adjusted_Close'].values\n",
        "\n",
        "# x values for Linear Regression\n",
        "# X=df['X3 distance to the nearest MRT station'].values.reshape(-1,1) # Note, we need X to be a 2D array, hence reshape\n",
        "# x values for LOWESS\n",
        "# x=df['sentence_no'].values \n",
        "x=np.arange(df.shape[0])\n",
        "\n",
        "# ------- Linear Regression -------\n",
        "# Define and fit the model\n",
        "# model1 = LinearRegression()\n",
        "# LR = model1.fit(X, y)\n",
        "\n",
        "# Predict a few points with Linear Regression model for the grpah\n",
        "# Create 20 evenly spaced points from smallest X to largest X\n",
        "# x_range = np.linspace(X.min(), X.max(), 20) \n",
        "# Predict y values for our set of X values\n",
        "# y_range = model1.predict(x_range.reshape(-1, 1))\n",
        "\n",
        "\n",
        "# ------- LOWESS -------\n",
        "# Generate y_hat values using lowess, try a couple values for hyperparameters\n",
        "lowess40 = 1/40\n",
        "lowess20 = 1/20\n",
        "lowess10 = 1/10\n",
        "\n",
        "y_hat40 = lowess(y, x, frac=lowess40)\n",
        "y_hat20 = lowess(y, x, frac=lowess20)\n",
        "y_hat10 = lowess(y, x, frac=lowess10)\n",
        "\n",
        "# Save into \n",
        "# df['LOWESS_frac'] = y_hat[:,1].tolist()\n",
        "df['lowess40'] = y_hat40[:,1].tolist()\n",
        "df['lowess20'] = y_hat20[:,1].tolist()\n",
        "df['lowess10'] = y_hat10[:,1].tolist()\n",
        "df.head()"
      ],
      "metadata": {
        "id": "q1UNxYNzgYvt"
      },
      "execution_count": null,
      "outputs": []
    },
    {
      "cell_type": "code",
      "source": [
        "# Verify numpy arrays same shape\n",
        "\n",
        "print(f'x.shape: {x.shape}')\n",
        "print(f'y.shape: {y.shape}')\n",
        "print(f'y_hat40.shape: {y_hat40.shape}')\n",
        "print(f'y_hat20.shape: {y_hat20.shape}')\n",
        "print(f'y_hat10.shape: {y_hat10.shape}')\n",
        "\n",
        "\n"
      ],
      "metadata": {
        "id": "c6bdbeizu5DR"
      },
      "execution_count": null,
      "outputs": []
    },
    {
      "cell_type": "code",
      "source": [
        "# Interpolate missing data\n",
        "\n",
        "print(f'x nan count: {pd.Series(x).isna().sum()}')\n",
        "print(f'y nan count: {pd.Series(y).isna().sum()}')\n",
        "print(f'y_hat40 nan count: {pd.Series(y_hat40[:,0]).isna().sum()}')\n",
        "print(f'y_hat20 nan count: {pd.Series(y_hat20[:,0]).isna().sum()}')\n",
        "print(f'y_hat10 nan count: {pd.Series(y_hat10[:,0]).isna().sum()}')"
      ],
      "metadata": {
        "id": "yy5wL5W2AvOS"
      },
      "execution_count": null,
      "outputs": []
    },
    {
      "cell_type": "code",
      "source": [
        "# Create a scatter plot\n",
        "\n",
        "# _ = fig = px.scatter(df, x='sentence_no', y=selected_model.value, custom_data=['text_raw'], opacity=0.3, color_discrete_sequence=['black']) # , size=1)\n",
        "# _ = fig = px.scatter(df, x='Date', y=['Adjusted_Close'], custom_data=['Open','High','Low','Close'], opacity=0.9) # , color_discrete_sequence=['black']) # , size=1)\n",
        "_ = fig = px.scatter(df, x=df.index, y=['Adjusted_Close'], custom_data=['Open','High','Low','Close'], opacity=0.9) # , color_discrete_sequence=['black']) # , size=1)\n",
        "# _ = fig = px.line(df, x=df.index, y=df.Adjusted_Close, custom_data=['Open','High','Low','Close'], opacity=0.9) # , color_discrete_sequence=['black']) # , size=1)\n",
        "\n",
        "# Add the prediction line\n",
        "# fig.add_traces(go.Scatter(x=x_range, y=y_range, name='Linear Regression', line=dict(color='limegreen')))\n",
        "_ = fig.add_traces(go.Scatter(x=df.index, y=df['lowess40'], name=f'LOWESS, frac={lowess40}', line=dict(color='red')))\n",
        "_ = fig.add_traces(go.Scatter(x=df.index, y=df['lowess20'], name=f'LOWESS, frac={lowess20}', line=dict(color='orange')))\n",
        "_ = fig.add_traces(go.Scatter(x=df.index, y=df['lowess10'], name=f'LOWESS, frac={lowess10}', line=dict(color='yellow')))\n",
        "# _ = fig.add_traces(go.Scatter(x=df['Date'], y=y_hat2[:,1], name='LOWESS, frac=1/30', line=dict(color='orange')))\n",
        "\n",
        "# _ = fig.add_traces(go.Scatter(x=df['sentence_no'], y=df['lowess20'], name='LOWESS, frac=1/20', line=dict(color='red')))\n",
        "# _ = fig.add_traces(go.Scatter(x=df['sentence_no'], y=df['lowess30'], name='LOWESS, frac=1/30', line=dict(color='orange')))\n",
        "\n",
        "# _ = fig.add_traces(px.scatter(df, x='sentence_no', y='lowess20', custom_data=['text_raw'])) #, name='LOWESS, frac=1/20', line=dict(color='red')))\n",
        "# _ = fig.add_traces(px.scatter(df, x='sentence_no', y='lowess30', custom_data=['text_raw'])) #, name='LOWESS, frac=1/30', line=dict(color='orange')))\n",
        "\n",
        "\n",
        "# _ = fig.add_traces(go.Scatter(x=df['sentence_no'], y=df['sma'], name=f'SMA, {selected_sma_window.value}%', line=dict(color='green'), opacity=0.1)) # , opacity=0.4, color_discrete_sequence=['green']))\n",
        "\n",
        "# Change chart background color\n",
        "# _ = fig.update_layout(dict(plot_bgcolor = 'white'))\n",
        "\n",
        "\n",
        "# Change chart background color\n",
        "_ = fig.update_layout(dict(plot_bgcolor = 'white'))\n",
        "\n",
        "# Update axes lines\n",
        "_ = fig.update_xaxes(showgrid=True, \n",
        "                     gridwidth=1, \n",
        "                     gridcolor='lightgrey',\n",
        "                     zeroline=True, \n",
        "                     zerolinewidth=1, \n",
        "                     zerolinecolor='lightgrey',\n",
        "                     showline=True,\n",
        "                     linewidth=1, \n",
        "                     linecolor='black',\n",
        "                     showspikes = True,\n",
        "                     spikemode  = 'across',\n",
        "                     spikesnap = 'cursor')\n",
        "\n",
        "_ = fig.update_yaxes(showgrid=True,\n",
        "                     gridwidth=1,\n",
        "                     gridcolor='lightgrey',\n",
        "                     zeroline=True,\n",
        "                     zerolinewidth=1,\n",
        "                     zerolinecolor='lightgrey',\n",
        "                     showline=True,\n",
        "                     linewidth=1,\n",
        "                     linecolor='black')\n",
        "\n",
        "# Set figure title\n",
        "# title_str = global_vars.corpus_titles_dt[selected_text.value][0]\n",
        "title_full_str = f'{stock_name} Pump and Dump Signature (LOWESS frac={LOWESS_FRAC:.2f})'\n",
        "\n",
        "# Update marker size\n",
        "_ = fig.update_traces(marker=dict(size=1))\n",
        "\n",
        "# title_str = f'Sentiment Arc: {title_str}<br>{selected_model.value} with {selected_sma_window.value}% SMA'\n",
        "\n",
        "_ = fig.update_layout(\n",
        "    plot_bgcolor='white',\n",
        "    title=dict(text=title_full_str, y=0.95, x=0.5, xanchor='center', yanchor='bottom'), # font=dict(color='black')),\n",
        "    xaxis_title=\"Date\",\n",
        "    yaxis_title='Adjusted Close',\n",
        "    xaxis=dict(showgrid=True), \n",
        "    yaxis=dict(showgrid=True),\n",
        "    showlegend = True,\n",
        "    hovermode  = 'x',\n",
        "    legend=dict(\n",
        "    title = \"Models:\",\n",
        "    orientation=\"h\",\n",
        "    xanchor=\"center\",\n",
        "    yanchor=\"bottom\",\n",
        "    y=-0.3, # 0.99,\n",
        "    x=0.5 # x=0.01\n",
        "))\n",
        "\n",
        "_ = fig.update_traces(\n",
        "    hovertemplate=\"<br>\".join([\n",
        "        \"Date: %{x}\",\n",
        "        \"Closing: %{y}\",\n",
        "        \"Open: %{customdata[0]}\",\n",
        "        \"High: %{customdata[1]}\",\n",
        "        \"Low: %{customdata[2]}\",\n",
        "        \"Close: %{customdata[3]}\",\n",
        "    ])\n",
        ")\n",
        "\n",
        "fig.show()"
      ],
      "metadata": {
        "id": "lS_e-tOdgYtF"
      },
      "execution_count": null,
      "outputs": []
    },
    {
      "cell_type": "markdown",
      "source": [
        "# Detect Peaks and Valleys"
      ],
      "metadata": {
        "id": "00tfb9MKuf6I"
      }
    },
    {
      "cell_type": "code",
      "source": [
        "# https://github.com/jankoslavic/py-tools/blob/master/findpeaks/findpeaks.py\n",
        "\n",
        "def findpeaks(data, spacing=1, limit=None):\n",
        "    \"\"\"Finds peaks in `data` which are of `spacing` width and >=`limit`.\n",
        "    :param data: values\n",
        "    :param spacing: minimum spacing to the next peak (should be 1 or more)\n",
        "    :param limit: peaks should have value greater or equal\n",
        "    :return:\n",
        "    \"\"\"\n",
        "    ln = data.size\n",
        "    x = np.zeros(ln+2*spacing)\n",
        "    x[:spacing] = data[0]-1.e-6\n",
        "    x[-spacing:] = data[-1]-1.e-6\n",
        "    x[spacing:spacing+ln] = data\n",
        "    peak_candidate = np.zeros(ln)\n",
        "    peak_candidate[:] = True\n",
        "    for s in range(spacing):\n",
        "        start = spacing - s - 1\n",
        "        h_b = x[start : start + ln]  # before\n",
        "        start = spacing\n",
        "        h_c = x[start : start + ln]  # central\n",
        "        start = spacing + s + 1\n",
        "        h_a = x[start : start + ln]  # after\n",
        "        peak_candidate = np.logical_and(peak_candidate, np.logical_and(h_c > h_b, h_c > h_a))\n",
        "\n",
        "    ind = np.argwhere(peak_candidate)\n",
        "    ind = ind.reshape(ind.size)\n",
        "    if limit is not None:\n",
        "        ind = ind[data[ind] > limit]\n",
        "    return ind"
      ],
      "metadata": {
        "id": "SOKrM_VYuln7"
      },
      "execution_count": null,
      "outputs": []
    },
    {
      "cell_type": "code",
      "source": [
        "df.info()"
      ],
      "metadata": {
        "id": "rEoJ3aHru0Pd"
      },
      "execution_count": null,
      "outputs": []
    },
    {
      "cell_type": "code",
      "source": [
        "# https://github.com/jankoslavic/py-tools/blob/master/findpeaks/Findpeaks%20example.ipynb\n",
        "\n",
        "_ = plt.figure(figsize=(20,10))\n",
        "\n",
        "# List of (x,y) coordinates of peaks and valleys\n",
        "peaks_xy_ls = []\n",
        "valleys_xy_ls = []\n",
        "\n",
        "n = 80\n",
        "m = 20\n",
        "limit = 0\n",
        "spacing = 3\n",
        "# t = np.linspace(0., 1, n)\n",
        "# x = np.zeros(n)\n",
        "# np.random.seed(0)\n",
        "# phase = 2 * np.pi * np.random.random(m)\n",
        "# for i in range(m):\n",
        "#     x += np.sin(phase[i] + 2 * np.pi * t * i)\n",
        "\n",
        "x = df['lowess40'].values\n",
        "t = df.index.values\n",
        "\n",
        "# Plot SMA\n",
        "_ = plt.plot(t, x, alpha=0.3)\n",
        "\n",
        "# Plot LOWESS\n",
        "# _ = plt.plot(y_hat2[:,0], y_hat2[:,1])\n",
        "_ = plt.plot(df.index, df['lowess40'])\n",
        "\n",
        "# Find Peaks\n",
        "# peaks = findpeaks(y_hat2[:,1]) # , spacing=spacing, limit=limit)\n",
        "peaks = findpeaks(df['lowess40'].values) # , spacing=spacing, limit=limit)\n",
        "\n",
        "# Find Valleys\n",
        "# valleys = findpeaks(-y_hat2[:,1])\n",
        "valleys = findpeaks(df['lowess40'].mul(-1.0).values)\n",
        "\n",
        "# _ = plt.axhline(limit, color='r')\n",
        "_ = plt.plot(t[peaks], x[peaks], 'g^', markersize=15)\n",
        "peaks_xy_ls = list(zip(t[peaks],x[peaks]))\n",
        "_ = plt.plot(t[valleys], x[valleys], 'rv', markersize=20)\n",
        "valleys_xy_ls = list(zip(t[valleys],x[valleys]))\n",
        "\n",
        "# Set figure title\n",
        "# title_str = global_vars.corpus_titles_dt[selected_text.value][0]\n",
        "title_all_str = f'{stock_name} Pump and Dump (LOWESS {lowess40:.2f})'\n",
        "peak_str = f'Peaks: min value {limit}, min spacing {spacing} points'\n",
        "\n",
        "_ = plt.title(f'{title_all_str}\\n{peak_str}')\n",
        "_ = plt.grid(True)\n",
        "plt.show()\n"
      ],
      "metadata": {
        "id": "aCvc6Ed6ulks"
      },
      "execution_count": null,
      "outputs": []
    },
    {
      "cell_type": "code",
      "source": [
        "df.info()"
      ],
      "metadata": {
        "id": "EiXbJaHH7r4S"
      },
      "execution_count": null,
      "outputs": []
    },
    {
      "cell_type": "code",
      "source": [
        "from scipy.signal import find_peaks"
      ],
      "metadata": {
        "id": "ek6mTaHi6_ig"
      },
      "execution_count": null,
      "outputs": []
    },
    {
      "cell_type": "code",
      "source": [
        "ts = pd.to_datetime([\"2020-01-01\", \"2020-02-01\", \"2020-02-02\", \"2020-02-03\", \"2020-02-03 12:45:00\", \"2020-03-01\", \"2020-04-01\"])\n",
        "ys = [0, 1, 4, 3, 2.7, 2, 1]\n",
        "# df = pd.DataFrame({'Timestamp':ts, 'Value':ys})\n",
        "# print(df)\n",
        "\n",
        "_ = plt.figure(figsize=(20,10))\n",
        "\n",
        "idx, properties = find_peaks(df['Adjusted_Close'], prominence=0.1, width=10)\n",
        "# introduce some shorthands:\n",
        "l = properties[\"left_ips\"]\n",
        "r = properties[\"right_ips\"]\n",
        "p = properties[\"prominences\"]\n",
        "w = properties[\"widths\"]\n",
        "wh = properties[\"width_heights\"]\n",
        "\n",
        "peak_x = df.index[idx].values\n",
        "peak_y = df['Adjusted_Close'][idx].values\n",
        "\n",
        "print(f\"Found a peak at {idx} (index), \\ni.e. at {peak_x} (Timestamp) \\nwith height {peak_y} (Adjusted_Close)\")\n",
        "print(f\"Half of the peak maximum can be found at {wh} (Adjusted_Close) \\nand has a width of {w} (Index)!\")\n",
        "print(f\"The width starts at {l} (index) \\nand goes to {r} (index) == ?? (INTERPOLATION OF INDEX REQUIRED!)\")\n",
        "\n",
        "fig,ax = plt.subplots()  # figsize=(10,3)) \n",
        "_ = plt.figure(figsize=(20,10))\n",
        "\n",
        "_ = ax.plot(df.index,df['Adjusted_Close'], marker=\"o\")\n",
        "\n",
        "_ = ax.scatter(peak_x, peak_y, marker=\"x\", s=20**2,color=\"r\")\n",
        "\n",
        "_ = ax.vlines(x=peak_x, ymin=peak_y - p, ymax = peak_y, color = \"C1\")\n",
        "# ax.axhline(wh,color=\"g\",linestyle=\"dashed\")\n",
        "\n",
        "_ = fig.autofmt_xdate()\n",
        "ax.grid()\n",
        "plt.tight_layout()\n",
        "plt.show()"
      ],
      "metadata": {
        "id": "8limhbTb694W"
      },
      "execution_count": null,
      "outputs": []
    },
    {
      "cell_type": "code",
      "source": [
        "range_adj_close = df.Adjusted_Close.max() - df.Adjusted_Close.min()\n",
        "print(f'Range of Adjusted Close: {range_adj_close}')"
      ],
      "metadata": {
        "id": "ckYb4p0v9SXi"
      },
      "execution_count": null,
      "outputs": []
    },
    {
      "cell_type": "code",
      "source": [
        "df.head()"
      ],
      "metadata": {
        "id": "RQ1sUB8Z-TfK"
      },
      "execution_count": null,
      "outputs": []
    },
    {
      "cell_type": "code",
      "source": [
        "df.resample('D')"
      ],
      "metadata": {
        "id": "cjnAWoT4-U2k"
      },
      "execution_count": null,
      "outputs": []
    },
    {
      "cell_type": "code",
      "source": [
        "df.info()"
      ],
      "metadata": {
        "id": "qd4tRw5H7fSN"
      },
      "execution_count": null,
      "outputs": []
    },
    {
      "cell_type": "code",
      "source": [
        "ts = pd.to_datetime([\"2020-01-01\", \"2020-02-01\", \"2020-02-02\", \"2020-02-03\", \"2020-02-03 12:45:00\", \"2020-03-01\", \"2020-04-01\"])\n",
        "ys = [0, 1, 4, 3, 2.7, 2, 1]\n",
        "df = pd.DataFrame({'Timestamp':ts, 'Value':ys})\n",
        "print(df)\n",
        "\n",
        "idx, properties = find_peaks(df['lowess40'], prominence=0.1, width=0.1)\n",
        "# introduce some shorthands:\n",
        "l = properties[\"left_ips\"]\n",
        "r = properties[\"right_ips\"]\n",
        "p = properties[\"prominences\"]\n",
        "w = properties[\"widths\"]\n",
        "wh = properties[\"width_heights\"]\n",
        "\n",
        "peak_x = df['Timestamp'][idx].values\n",
        "peak_y = df['Average_Cl'][idx].values\n",
        "\n",
        "print(f\"Found a peak at {idx} (index), i.e. at {peak_x} (Timestamp) with height {peak_y} (Value)\")\n",
        "print(f\"Half of the peak maximum can be found at {wh} (Value) and has a width of {w} (Index)!\")\n",
        "print(f\"The width starts at {l} (index) and goes to {r} (index) == ?? (INTERPOLATION OF INDEX REQUIRED!)\")\n",
        "\n",
        "fig,ax = plt.subplots(figsize=(10,3))    \n",
        "ax.plot(df['Timestamp'],df['Value'], marker=\"o\")\n",
        "\n",
        "ax.scatter(peak_x, peak_y, marker=\"x\", s=20**2,color=\"r\")\n",
        "\n",
        "ax.vlines(x=peak_x, ymin=peak_y - p, ymax = peak_y, color = \"C1\")\n",
        "ax.axhline(wh,color=\"g\",linestyle=\"dashed\")\n",
        "\n",
        "fig.autofmt_xdate()\n",
        "ax.grid()\n",
        "plt.tight_layout()\n",
        "plt.show()"
      ],
      "metadata": {
        "id": "QdBIjMHG7M0L"
      },
      "execution_count": null,
      "outputs": []
    },
    {
      "cell_type": "markdown",
      "source": [
        "## Filter Noisy Peaks/Valleys"
      ],
      "metadata": {
        "id": "IT3LfFv73bej"
      }
    },
    {
      "cell_type": "code",
      "source": [
        "# TODO: Filter out peak/valley and valley/peak pairs \n",
        "#         if local(max-min) < (threshold%) * global(max-min)\n",
        "\n",
        "# OPTIONAL: These noisy peaks are downranked on downstream tasks\n",
        "#           This functionality only justified for demanding downstream high-speed and/or big data processing"
      ],
      "metadata": {
        "id": "WmzrtF513at_"
      },
      "execution_count": null,
      "outputs": []
    },
    {
      "cell_type": "markdown",
      "source": [
        "# Extract Hills"
      ],
      "metadata": {
        "id": "7T2BlgNmvkTF"
      }
    },
    {
      "cell_type": "code",
      "source": [
        "# Merge and Sort\n",
        "\n",
        "cruxes_xy_ls = peaks_xy_ls + valleys_xy_ls\n",
        "cruxes_xy_ls.sort(key=lambda tup: tup[0])\n",
        "cruxes_xy_ls"
      ],
      "metadata": {
        "id": "khrdN_4OvxZY"
      },
      "execution_count": null,
      "outputs": []
    },
    {
      "cell_type": "code",
      "source": [
        "len(cruxes_xy_ls)"
      ],
      "metadata": {
        "id": "1mHLXPREyJsU"
      },
      "execution_count": null,
      "outputs": []
    },
    {
      "cell_type": "code",
      "source": [
        "# extract tuples (low, high, low) for each hill\n",
        "# slide 3 wide window over time series\n",
        "#   if window pattern matches LOW-HIGH-LOW save\n",
        "\n",
        "hills_ls = []\n",
        "\n",
        "crux_prev_fl = -99\n",
        "\n",
        "ptr_end = len(cruxes_xy_ls) - 3  # Window is 3 elements wide\n",
        "\n",
        "for i, window_ptr in enumerate(range(0, ptr_end)):\n",
        "  print(f'Processing Window Step #{i}:')\n",
        "  val0 = cruxes_xy_ls[i][1]\n",
        "  val1 = cruxes_xy_ls[i+1][1]\n",
        "  val2 = cruxes_xy_ls[i+2][1]\n",
        "  print(f'Window: [{val0:.2f}, {val1:.2f}, {val2:.2f}]')\n",
        "  if (val0 < val1) & (val1 > val2):\n",
        "    print(f'  Hill at Step = {i}')\n",
        "    hills_ls.append([val0, val1, val2])\n"
      ],
      "metadata": {
        "id": "QaBzUZiWvjlZ"
      },
      "execution_count": null,
      "outputs": []
    },
    {
      "cell_type": "code",
      "source": [
        "hills_ls"
      ],
      "metadata": {
        "id": "ge5Y1s8FvtCR"
      },
      "execution_count": null,
      "outputs": []
    },
    {
      "cell_type": "markdown",
      "source": [
        "# Determine Half-Width & Half-Height of each Hill"
      ],
      "metadata": {
        "id": "RmIwSN5dzqgn"
      }
    },
    {
      "cell_type": "code",
      "source": [
        "from scipy.signal import chirp, find_peaks, peak_widths, peak_prominences"
      ],
      "metadata": {
        "id": "krSS1yL0ulhp"
      },
      "execution_count": null,
      "outputs": []
    },
    {
      "cell_type": "code",
      "source": [
        "df.info()"
      ],
      "metadata": {
        "id": "cjTrjigi0J64"
      },
      "execution_count": null,
      "outputs": []
    },
    {
      "cell_type": "code",
      "source": [
        "x"
      ],
      "metadata": {
        "id": "VeLSvt3k0jMn"
      },
      "execution_count": null,
      "outputs": []
    },
    {
      "cell_type": "markdown",
      "source": [
        "## Find Half and Full Widths"
      ],
      "metadata": {
        "id": "Or8pXpAg1bY2"
      }
    },
    {
      "cell_type": "code",
      "source": [
        "peaks_lowess, _ = find_peaks(df.LOWESS_frac.values)\n",
        "peaks_raw, _ = find_peaks(df.Adjusted_Close.values)\n",
        "\n",
        "# x assigned with LOWESS smoothing above\n",
        "\n",
        "# Get half/full peaks for LOWESS smoothed\n",
        "print('HALF WIDTHS ----------')\n",
        "results_half_tup = peak_widths(x, peaks_lowess, rel_height=0.5)\n",
        "half_widths_np = results_half_tup[0]  # widths\n",
        "half_widths_np\n",
        "\n",
        "print('\\n')\n",
        "\n",
        "print('FULL WIDTHS ----------')\n",
        "results_full_tup = peak_widths(x, peaks_lowess, rel_height=1)\n",
        "full_widths_np = results_full_tup[0]\n",
        "full_widths_np\n",
        "\n",
        "# Get half/full peaks for Raw Time Series\n",
        "print('HALF WIDTHS ----------')\n",
        "results_half_tup = peak_widths(x, peaks_raw, rel_height=0.5)\n",
        "half_widths_np = results_half_tup[0]  # widths\n",
        "half_widths_np\n",
        "\n",
        "print('\\n')\n",
        "\n",
        "print('FULL WIDTHS ----------')\n",
        "results_full_tup = peak_widths(x, peaks_raw, rel_height=1)\n",
        "full_widths_np = results_full_tup[0]\n",
        "full_widths_np"
      ],
      "metadata": {
        "id": "uMpz_Ak5uley"
      },
      "execution_count": null,
      "outputs": []
    },
    {
      "cell_type": "code",
      "source": [
        "results_half_tup[2]"
      ],
      "metadata": {
        "id": "sP1UjinYp0R8"
      },
      "execution_count": null,
      "outputs": []
    },
    {
      "cell_type": "code",
      "source": [
        "half_widths_np.shape\n",
        "\n",
        "print('\\n')\n",
        "\n",
        "full_widths_np.shape"
      ],
      "metadata": {
        "id": "jo_ubsaX3Sb1"
      },
      "execution_count": null,
      "outputs": []
    },
    {
      "cell_type": "code",
      "source": [
        "plt.plot(x)\n",
        "\n",
        "plt.plot(peaks, x[peaks], \"x\")\n",
        "\n",
        "plt.hlines(*results_half_tup[1:], color=\"C2\")\n",
        "\n",
        "plt.hlines(*results_full_tup[1:], color=\"C3\")\n",
        "\n",
        "plt.show()"
      ],
      "metadata": {
        "id": "VxKELtTvulb2"
      },
      "execution_count": null,
      "outputs": []
    },
    {
      "cell_type": "markdown",
      "source": [
        "## Find Peak Prominences"
      ],
      "metadata": {
        "id": "7qkI6IGs1e99"
      }
    },
    {
      "cell_type": "code",
      "source": [
        "x"
      ],
      "metadata": {
        "id": "rbYGkMbY8sJ3"
      },
      "execution_count": null,
      "outputs": []
    },
    {
      "cell_type": "code",
      "source": [
        "# https://stackoverflow.com/questions/53778703/python-scipy-signal-peak-widths-absolute-heigth-fft-3db-damping\n",
        "\n",
        "# Find peaks\n",
        "# peaks, _ = find_peaks(x)\n",
        "# prominences, left_bases, right_bases = peak_prominences(x, peaks)\n",
        "\n",
        "# Calculate widths at x[peaks] - offset * rel_height\n",
        "# widths, h_eval, left_ips, right_ips = peak_widths(\n",
        "#     x, peaks, \n",
        "#     rel_height=1,\n",
        "#     prominence_data=(offset, left_bases, right_bases)\n",
        "# )\n",
        "\n",
        "prominences, left_bases, right_bases = peak_prominences(x, peaks)\n",
        "type(left_bases)\n",
        "left_bases.shape\n",
        "left_bases"
      ],
      "metadata": {
        "id": "-gPT_9TzDFAn"
      },
      "execution_count": null,
      "outputs": []
    },
    {
      "cell_type": "code",
      "source": [
        "peaks, _ = find_peaks(x)\n",
        "\n",
        "# prominences, left_bases, right_bases = peak_prominences(x, peaks)\n",
        "\n",
        "prominences_np = peak_prominences(x, peaks)[0]\n",
        "\n",
        "prominences_np"
      ],
      "metadata": {
        "id": "z2BjS1e4gYqT"
      },
      "execution_count": null,
      "outputs": []
    },
    {
      "cell_type": "code",
      "source": [
        "peaks, _ = find_peaks(x)\n",
        "\n",
        "prominences, left_bases, right_bases = peak_prominences(x, peaks)\n",
        "\n",
        "prominences_np = peak_prominences(x, peaks)[0]\n",
        "\n",
        "prominences_np"
      ],
      "metadata": {
        "id": "W2t9PWADnwzQ"
      },
      "execution_count": null,
      "outputs": []
    },
    {
      "cell_type": "code",
      "source": [
        "prominences.shape"
      ],
      "metadata": {
        "id": "Fc2L1sEmnwvi"
      },
      "execution_count": null,
      "outputs": []
    },
    {
      "cell_type": "code",
      "source": [
        "for i in range(left_bases.shape[0]):\n",
        "  print(f'Prominence #{i}:\\n  Left: {left_bases[i]}\\n Right: {right_bases[i]}\\nHeigth: {right_bases[i]-left_bases[i]}\\n') \n"
      ],
      "metadata": {
        "id": "gN2rXGyhn_iN"
      },
      "execution_count": null,
      "outputs": []
    },
    {
      "cell_type": "code",
      "source": [
        "prominences_np.shape"
      ],
      "metadata": {
        "id": "4Cw-Qv_V3b2k"
      },
      "execution_count": null,
      "outputs": []
    },
    {
      "cell_type": "code",
      "source": [
        "contour_heights = x[peaks] - prominences_np\n",
        "\n",
        "_ = plt.plot(x)\n",
        "\n",
        "_ = plt.plot(peaks, x[peaks], \"x\")\n",
        "\n",
        "_ = plt.vlines(x=peaks, ymin=contour_heights, ymax=x[peaks])\n",
        "\n",
        "plt.show()"
      ],
      "metadata": {
        "id": "J3JiVLvK1gwE"
      },
      "execution_count": null,
      "outputs": []
    },
    {
      "cell_type": "code",
      "source": [
        "vlines_ls = list(zip(peaks, contour_heights, x[peaks], x[peaks]-contour_heights))"
      ],
      "metadata": {
        "id": "uF7P2NP_dqgE"
      },
      "execution_count": null,
      "outputs": []
    },
    {
      "cell_type": "code",
      "source": [
        "print(vlines_ls[0])"
      ],
      "metadata": {
        "id": "HSjnOiZFePKr"
      },
      "execution_count": null,
      "outputs": []
    },
    {
      "cell_type": "code",
      "source": [],
      "metadata": {
        "id": "B_ub0pxaeerU"
      },
      "execution_count": null,
      "outputs": []
    },
    {
      "cell_type": "code",
      "source": [
        "# Filter out Prominences without corresponding full/half-width ranges\n",
        "\n",
        "print(f'Prominences Count: {prominences_np.shape[0]}')\n",
        "print(f'Half-Width Count: {half_widths_np.shape[0]}')\n",
        "print(f'Full-Width Count: {full_widths_np.shape[0]}')"
      ],
      "metadata": {
        "id": "68bJyi8v4QuF"
      },
      "execution_count": null,
      "outputs": []
    },
    {
      "cell_type": "code",
      "source": [
        "prominences_np[0]"
      ],
      "metadata": {
        "id": "ZxVrGKJrnedm"
      },
      "execution_count": null,
      "outputs": []
    },
    {
      "cell_type": "code",
      "source": [
        "_ = plt.hlines(*results_half_tup[1:], color=\"C2\")\n",
        "_ = plt.vlines(x=peaks, ymin=contour_heights, ymax=x[peaks])\n"
      ],
      "metadata": {
        "id": "S88SW8L6BSZp"
      },
      "execution_count": null,
      "outputs": []
    },
    {
      "cell_type": "code",
      "source": [
        "results_half_tup"
      ],
      "metadata": {
        "id": "3xXfKltHBu0o"
      },
      "execution_count": null,
      "outputs": []
    },
    {
      "cell_type": "code",
      "source": [
        "results_full_tup"
      ],
      "metadata": {
        "id": "JcfzowqtCYdU"
      },
      "execution_count": null,
      "outputs": []
    },
    {
      "cell_type": "markdown",
      "source": [
        "## Select Most Import Prominence/Half-Width Pairs"
      ],
      "metadata": {
        "id": "iXhHM96fdUoH"
      }
    },
    {
      "cell_type": "code",
      "source": [
        "ts = pd.to_datetime([\"2020-01-01\", \"2020-02-01\", \"2020-02-02\", \"2020-02-03\", \"2020-02-03 12:45:00\", \"2020-03-01\", \"2020-04-01\"])\n",
        "ys = [0, 1, 4, 3, 2.7, 2, 1]\n",
        "df = pd.DataFrame({'Timestamp':ts, 'Value':ys})\n",
        "print(df)\n",
        "\n",
        "idx, properties = find_peaks(df['Value'], prominence=0.1, width=0.1)\n",
        "# introduce some shorthands:\n",
        "l = properties[\"left_ips\"]\n",
        "r = properties[\"right_ips\"]\n",
        "p = properties[\"prominences\"]\n",
        "w = properties[\"widths\"]\n",
        "wh = properties[\"width_heights\"]\n",
        "\n",
        "peak_x = df['Timestamp'][idx].values\n",
        "peak_y = df['Value'][idx].values\n",
        "\n",
        "print(f\"Found a peak at {idx} (index), i.e. at {peak_x} (Timestamp) with height {peak_y} (Value)\")\n",
        "print(f\"Half of the peak maximum can be found at {wh} (Value) and has a width of {w} (Index)!\")\n",
        "print(f\"The width starts at {l} (index) and goes to {r} (index) == ?? (INTERPOLATION OF INDEX REQUIRED!)\")\n",
        "\n",
        "fig,ax = plt.subplots(figsize=(10,3))    \n",
        "ax.plot(df['Timestamp'],df['Value'], marker=\"o\")\n",
        "\n",
        "ax.scatter(peak_x, peak_y, marker=\"x\", s=20**2,color=\"r\")\n",
        "\n",
        "ax.vlines(x=peak_x, ymin=peak_y - p, ymax = peak_y, color = \"C1\")\n",
        "ax.axhline(wh,color=\"g\",linestyle=\"dashed\")\n",
        "\n",
        "fig.autofmt_xdate()\n",
        "ax.grid()\n",
        "plt.tight_layout()\n",
        "plt.show()"
      ],
      "metadata": {
        "id": "S9Iqu0BDh6bw"
      },
      "execution_count": null,
      "outputs": []
    },
    {
      "cell_type": "code",
      "source": [],
      "metadata": {
        "id": "sfpNXK7Oh6Ya"
      },
      "execution_count": null,
      "outputs": []
    },
    {
      "cell_type": "code",
      "source": [],
      "metadata": {
        "id": "VttNjfRqh6Us"
      },
      "execution_count": null,
      "outputs": []
    },
    {
      "cell_type": "code",
      "source": [
        "# Create list of vline tuples\n",
        "\n",
        "vlines_ls = list(zip(peaks, contour_heights, x[peaks], x[peaks]-contour_heights))\n",
        "print(vlines_ls[0])"
      ],
      "metadata": {
        "id": "3g2ZKzo9dUd-"
      },
      "execution_count": null,
      "outputs": []
    },
    {
      "cell_type": "code",
      "source": [
        "vlines_ls.sort(key=lambda tup: tup[3], reverse=True)\n",
        "vlines_ls"
      ],
      "metadata": {
        "id": "GbVnQbG6fAf8"
      },
      "execution_count": null,
      "outputs": []
    },
    {
      "cell_type": "code",
      "source": [
        "# Create list of hline tuples\n",
        "\n"
      ],
      "metadata": {
        "id": "dbpP0hxwfAgA"
      },
      "execution_count": null,
      "outputs": []
    },
    {
      "cell_type": "code",
      "source": [],
      "metadata": {
        "id": "jmn0F_9DdUbB"
      },
      "execution_count": null,
      "outputs": []
    },
    {
      "cell_type": "code",
      "source": [],
      "metadata": {
        "id": "fh2Dn-HBdUYS"
      },
      "execution_count": null,
      "outputs": []
    },
    {
      "cell_type": "code",
      "source": [],
      "metadata": {
        "id": "wXQprVJCdUVY"
      },
      "execution_count": null,
      "outputs": []
    },
    {
      "cell_type": "code",
      "source": [
        "# Combine prominence and half/full peak widths\n",
        "\n",
        "peaks_df = pd.DataFrame({'prominence':prominences_np, 'half_width':half_widths_np, 'full_width':full_widths_np})\n",
        "peaks_df.head()\n",
        "peaks_df.info()"
      ],
      "metadata": {
        "id": "PC44xERB1gtH"
      },
      "execution_count": null,
      "outputs": []
    },
    {
      "cell_type": "code",
      "source": [
        "# Compute PnD Radio Statistics\n",
        "\n",
        "peaks_df['prom2halfwidth'] = peaks_df['prominence']/peaks_df['half_width']\n",
        "peaks_df['prom2fullwidth'] = peaks_df['prominence']/peaks_df['full_width']\n",
        "peaks_df.head()\n",
        "peaks_df.info()"
      ],
      "metadata": {
        "id": "SD6XF-tZ1gqT"
      },
      "execution_count": null,
      "outputs": []
    },
    {
      "cell_type": "code",
      "source": [
        "# Create DataFrame of Peak statistics\n",
        "\n",
        "peaks_df['prom2halfwidth_rank'] = peaks_df['prom2halfwidth'].rank(ascending=False)\n",
        "peaks_df['prom2fullwidth_rank'] = peaks_df['prom2fullwidth'].rank(ascending=False)\n",
        "peaks_df.head()\n",
        "peaks_df.info()"
      ],
      "metadata": {
        "id": "dVRV3mwF4Axx"
      },
      "execution_count": null,
      "outputs": []
    },
    {
      "cell_type": "markdown",
      "source": [
        "# Plot"
      ],
      "metadata": {
        "id": "UYQltIwj5xXK"
      }
    },
    {
      "cell_type": "markdown",
      "source": [
        "## Static Matplotlib"
      ],
      "metadata": {
        "id": "T5-joKrI6R21"
      }
    },
    {
      "cell_type": "code",
      "source": [
        "df.info()"
      ],
      "metadata": {
        "id": "E5_LBbXy6WGC"
      },
      "execution_count": null,
      "outputs": []
    },
    {
      "cell_type": "code",
      "source": [
        "plt.rcParams['font.size'] = 18\n",
        "fig, ax = plt.subplots(figsize = (20,10))\n",
        "\n",
        "_ = ax.plot(df['Date'], df['Adjusted_Close'], label = 'Adj Close')\n",
        "_ = ax.plot(df['Date'], df['LOWESS_frac'], label = f'LOWESS, frac={LOWESS_FRAC:.2f}')\n",
        "\n",
        "_ = ax.legend(loc='best')\n",
        "_ = ax.grid(True)\n",
        "ax.set_ylabel('Adjusted Close')\n",
        "ax.set_title(f'Detecting Pump and Dump Time Series Signature')\n",
        "\n",
        "_ = plt.show();"
      ],
      "metadata": {
        "id": "ogKAfm0d6MHG"
      },
      "execution_count": null,
      "outputs": []
    },
    {
      "cell_type": "code",
      "source": [],
      "metadata": {
        "id": "Tsy7PWsF6MDj"
      },
      "execution_count": null,
      "outputs": []
    },
    {
      "cell_type": "markdown",
      "source": [
        "## Interactive Plotly"
      ],
      "metadata": {
        "id": "Ti3dNpbq6QNV"
      }
    },
    {
      "cell_type": "code",
      "source": [
        "# Create a scatter plot\n",
        "\n",
        "# _ = fig = px.scatter(df, x='sentence_no', y=selected_model.value, custom_data=['text_raw'], opacity=0.3, color_discrete_sequence=['black']) # , size=1)\n",
        "_ = fig = px.scatter(df, x='Date', y=['Adjusted_Close'], custom_data=['Open','High','Low','Close'], opacity=0.9) # , color_discrete_sequence=['black']) # , size=1)\n",
        "\n",
        "# Add the prediction line\n",
        "# fig.add_traces(go.Scatter(x=x_range, y=y_range, name='Linear Regression', line=dict(color='limegreen')))\n",
        "_ = fig.add_traces(go.Scatter(x=df['Date'], y=df['LOWESS_frac'], name=f'LOWESS, frac={LOWESS_FRAC}', line=dict(color='red')))\n",
        "# _ = fig.add_traces(go.Scatter(x=df['Date'], y=y_hat2[:,1], name='LOWESS, frac=1/30', line=dict(color='orange')))\n",
        "\n",
        "# _ = fig.add_traces(go.Scatter(x=df['sentence_no'], y=df['lowess20'], name='LOWESS, frac=1/20', line=dict(color='red')))\n",
        "# _ = fig.add_traces(go.Scatter(x=df['sentence_no'], y=df['lowess30'], name='LOWESS, frac=1/30', line=dict(color='orange')))\n",
        "\n",
        "# _ = fig.add_traces(px.scatter(df, x='sentence_no', y='lowess20', custom_data=['text_raw'])) #, name='LOWESS, frac=1/20', line=dict(color='red')))\n",
        "# _ = fig.add_traces(px.scatter(df, x='sentence_no', y='lowess30', custom_data=['text_raw'])) #, name='LOWESS, frac=1/30', line=dict(color='orange')))\n",
        "\n",
        "\n",
        "# _ = fig.add_traces(go.Scatter(x=df['sentence_no'], y=df['sma'], name=f'SMA, {selected_sma_window.value}%', line=dict(color='green'), opacity=0.1)) # , opacity=0.4, color_discrete_sequence=['green']))\n",
        "\n",
        "# Change chart background color\n",
        "# _ = fig.update_layout(dict(plot_bgcolor = 'white'))\n",
        "\n",
        "\n",
        "# Change chart background color\n",
        "_ = fig.update_layout(dict(plot_bgcolor = 'white'))\n",
        "\n",
        "# Update axes lines\n",
        "_ = fig.update_xaxes(showgrid=True, \n",
        "                     gridwidth=1, \n",
        "                     gridcolor='lightgrey',\n",
        "                     zeroline=True, \n",
        "                     zerolinewidth=1, \n",
        "                     zerolinecolor='lightgrey',\n",
        "                     showline=True,\n",
        "                     linewidth=1, \n",
        "                     linecolor='black',\n",
        "                     showspikes = True,\n",
        "                     spikemode  = 'across',\n",
        "                     spikesnap = 'cursor')\n",
        "\n",
        "_ = fig.update_yaxes(showgrid=True,\n",
        "                     gridwidth=1,\n",
        "                     gridcolor='lightgrey',\n",
        "                     zeroline=True,\n",
        "                     zerolinewidth=1,\n",
        "                     zerolinecolor='lightgrey',\n",
        "                     showline=True,\n",
        "                     linewidth=1,\n",
        "                     linecolor='black')\n",
        "\n",
        "# Set figure title\n",
        "# title_str = global_vars.corpus_titles_dt[selected_text.value][0]\n",
        "title_full_str = f'{stock_name} Pump and Dump Signature (LOWESS frac={LOWESS_FRAC:.2f})'\n",
        "\n",
        "# Update marker size\n",
        "_ = fig.update_traces(marker=dict(size=1))\n",
        "\n",
        "# title_str = f'Sentiment Arc: {title_str}<br>{selected_model.value} with {selected_sma_window.value}% SMA'\n",
        "\n",
        "_ = fig.update_layout(\n",
        "    plot_bgcolor='white',\n",
        "    title=dict(text=title_full_str, y=0.95, x=0.5, xanchor='center', yanchor='bottom'), # font=dict(color='black')),\n",
        "    xaxis_title=\"Date\",\n",
        "    yaxis_title='Adjusted Close',\n",
        "    xaxis=dict(showgrid=True), \n",
        "    yaxis=dict(showgrid=True),\n",
        "    showlegend = True,\n",
        "    hovermode  = 'x',\n",
        "    legend=dict(\n",
        "    title = \"Models:\",\n",
        "    orientation=\"h\",\n",
        "    xanchor=\"center\",\n",
        "    yanchor=\"bottom\",\n",
        "    y=-0.3, # 0.99,\n",
        "    x=0.5 # x=0.01\n",
        "))\n",
        "\n",
        "_ = fig.update_traces(\n",
        "    hovertemplate=\"<br>\".join([\n",
        "        \"Date: %{x}\",\n",
        "        \"Closing: %{y}\",\n",
        "        \"Open: %{customdata[0]}\",\n",
        "        \"High: %{customdata[1]}\",\n",
        "        \"Low: %{customdata[2]}\",\n",
        "        \"Close: %{customdata[3]}\",\n",
        "    ])\n",
        ")\n",
        "\n",
        "fig.show()"
      ],
      "metadata": {
        "id": "_yWIgUa64AuQ"
      },
      "execution_count": null,
      "outputs": []
    },
    {
      "cell_type": "code",
      "source": [],
      "metadata": {
        "id": "rZO5OkEB4Arf"
      },
      "execution_count": null,
      "outputs": []
    },
    {
      "cell_type": "markdown",
      "source": [
        "# **[END OF NOTEBOOK]**"
      ],
      "metadata": {
        "id": "sjhLgEqT524h"
      }
    },
    {
      "cell_type": "code",
      "source": [
        "from pandas.io.formats import style\n",
        "# Review first 5 pump_indexes\n",
        "\n",
        "max_pumpindx_dates_dt = {}\n",
        "pump_indx_max = 5\n",
        "\n",
        "styles = ['-','--','-.',':','-']\n",
        "linewidths = [2, 1, 4]\n",
        "for apump_indx in range(pump_indx_max):\n",
        "  _ = df[df['pump_index'] == apump_indx]['avg_price'].plot() # alpha=0.5)\n",
        "\n",
        "_ = plt.legend(loc='best')\n",
        "_ = plt.grid(True)\n",
        "_ = plt.title('Raw Avg Prices')\n",
        "plt.show();\n",
        "\n",
        "for apump_indx in range(pump_indx_max):\n",
        "  amax_date = df[df['pump_index'] == apump_indx]['date'].max()\n",
        "  print(f'pump_indx #{apump_indx} amax_date: {amax_date}')\n",
        "  max_pumpindx_dates_dt[apump_indx] = amax_date\n",
        "  _ = df[df['pump_index'] == apump_indx]['avg_price'].rolling(100, center=True, min_periods=0).mean().plot(label=f'win=100, pindx={apump_indx}', alpha=0.5)\n",
        "  _ = plt.legend(loc='best')\n",
        "  _ = df[df['pump_index'] == apump_indx]['avg_price'].rolling(200, center=True, min_periods=0).mean().plot(label=f'win=200', alpha=0.5)\n",
        "  _ = df[df['pump_index'] == apump_indx]['avg_price'].rolling(200, center=True, min_periods=0).mean().plot(label=f'win=300', alpha=0.5)\n",
        "\n",
        "_ = plt.legend(loc='best')\n",
        "_ = plt.grid(True)\n",
        "_ = plt.title('SMA 10 Smoothed Avg Prices')\n",
        "plt.show();"
      ],
      "metadata": {
        "id": "qcL2NKyigdwQ"
      },
      "execution_count": null,
      "outputs": []
    },
    {
      "cell_type": "markdown",
      "source": [
        "## Plotly"
      ],
      "metadata": {
        "id": "MiV5xFMgR_v-"
      }
    },
    {
      "cell_type": "code",
      "source": [
        "# settings\n",
        "pd.options.plotting.backend = \"plotly\"\n",
        "\n",
        "# sample dataframe of a wide format\n",
        "np.random.seed(4); cols = list('abc')\n",
        "X = np.random.randn(50,len(cols))  \n",
        "adf=pd.DataFrame(X, columns=cols)\n",
        "adf.iloc[0]=0; adf=adf.cumsum()\n",
        "\n",
        "# plotly figure\n",
        "adf.plot(template = 'plotly_white')\n",
        "\n",
        "# setback\n",
        "pd.options.plotting.backend = 'matplotlib'"
      ],
      "metadata": {
        "id": "P6DotVYgguQG"
      },
      "execution_count": null,
      "outputs": []
    },
    {
      "cell_type": "code",
      "source": [
        "df.info()"
      ],
      "metadata": {
        "id": "d75pDnsYMoQG"
      },
      "execution_count": null,
      "outputs": []
    },
    {
      "cell_type": "code",
      "source": [
        "\"\"\"\n",
        "\n",
        "apump_index = 3\n",
        "\n",
        "# settings\n",
        "pd.options.plotting.backend = \"plotly\"\n",
        "\n",
        "# sample dataframe of a wide format\n",
        "np.random.seed(4); cols = list('abc')\n",
        "X = np.random.randn(50,len(cols))  \n",
        "# df=pd.DataFrame(X, columns=cols)\n",
        "# df.iloc[0]=0; df=df.cumsum()\n",
        "\n",
        "# plotly figure\n",
        "df[df['pump_index'] == apump_index]['avg_price'].plot(template = 'plotly_white')\n",
        "\n",
        "\n",
        "# Zoom around the Max Peak\n",
        "ahalf_win = 20\n",
        "\n",
        "aindx_max = df[df['pump_index'] == apump_index]['avg_price'].idxmax()\n",
        "aval_max = df[df['pump_index'] == apump_index]['avg_price'].max()\n",
        "\n",
        "print(f'aval_max: {aval_max} at idxmax: {aindx_max}')\n",
        "\n",
        "# plotly figure\n",
        "df.iloc[aindx_max - ahalf_win:aindx_max + ahalf_win]['avg_price'].plot(template = 'plotly_white')\n",
        "\n",
        "# set back\n",
        "pd.options.plotting.backend = \"matplotlib\"\n",
        "\n",
        "\"\"\";"
      ],
      "metadata": {
        "id": "jrNsguXWgmN_"
      },
      "execution_count": null,
      "outputs": []
    },
    {
      "cell_type": "code",
      "source": [
        "df['pump_index'].max()"
      ],
      "metadata": {
        "id": "-frMeqKFWTm7"
      },
      "execution_count": null,
      "outputs": []
    },
    {
      "cell_type": "code",
      "source": [
        "apump_indx_ls = [1,2,3,4,5]\n",
        "apump_indx_ls = list(range(100,105))\n",
        "\n",
        "# Get some data\n",
        "# df = pd.read_csv('https://raw.githubusercontent.com/plotly/datasets/master/finance-charts-apple.csv')\n",
        "\n",
        "plt.plot()\n",
        "for i, apump_indx in enumerate(apump_indx_ls):\n",
        "  max_val = df[df['pump_index']==apump_indx]['avg_price'].max()\n",
        "  max_indx = df[df['pump_index']==apump_indx]['avg_price'].idxmax() \n",
        "  max_date = df.iloc[max_indx]['date']\n",
        "\n",
        "  atitle_str = f'Pump_Index={apump_indx}: Max={max_val} on date={max_date} (index={max_indx})'\n",
        "\n",
        "  fig = px.line(df[df['pump_index']==apump_indx], x='date', y=['avg_price'])\n",
        "  fig.add_vline(x=max_date, line_width=3, line_dash=\"dot\", line_color=\"red\")\n",
        "  # fig.update_layout(title_font=dict(size=30))\n",
        "  fig.update_layout(title_text=atitle_str, title_x=0.5)\n",
        "\n",
        "  # fig.update_layout(\n",
        "  #   showlegend=False,\n",
        "  #   font={'size': 11},\n",
        "  #   title={'text': atitle_str, 'font': {'size': 14}, title_x=0.5}\n",
        "  # )\n",
        "\n",
        "\n",
        " "
      ],
      "metadata": {
        "id": "uhm9v8guMUwc"
      },
      "execution_count": null,
      "outputs": []
    },
    {
      "cell_type": "markdown",
      "source": [
        "# Test Sandbox"
      ],
      "metadata": {
        "id": "L-5vTZRgW6fg"
      }
    },
    {
      "cell_type": "code",
      "source": [],
      "metadata": {
        "id": "VC7hQzDyW5OB"
      },
      "execution_count": null,
      "outputs": []
    },
    {
      "cell_type": "code",
      "source": [
        "\"\"\"\n",
        "\n",
        "pump_indx_max = 5\n",
        "\n",
        "# data set 1\n",
        "# x = np.linspace(0, 9, 10)\n",
        "# y = x\n",
        "\n",
        "# data set 2\n",
        "# df = pd.DataFrame(np.column_stack([x*0.5, y]), columns=[\"x\", \"y\"])\n",
        "\n",
        "for apump_indx in range(pump_indx_max):\n",
        "  amax_date = df[df['pump_index'] == apump_indx]['date'].max()\n",
        "  print(f'pump_indx #{apump_indx} amax_date: {amax_date}')\n",
        "  max_pumpindx_dates_dt[apump_indx] = amax_date\n",
        "                       \n",
        "  fig = go.Figure(px.scatter(df[df['pump_index'==apump_indx]], x=\"date\", y=\"avg_price\"))\n",
        "  fig.add_trace(go.Scatter(x=x, y=y))\n",
        "\n",
        "fig.show()\n",
        "\n",
        "\"\"\";"
      ],
      "metadata": {
        "id": "_oOZxXXsfg96"
      },
      "execution_count": null,
      "outputs": []
    },
    {
      "cell_type": "code",
      "source": [
        "def method1(df):\n",
        "  D = {}\n",
        "  [D.setdefault(k, []).append(v) for k, v in zip(df['name'].to_numpy(), df['val'].to_numpy())]\n",
        "  return D"
      ],
      "metadata": {
        "id": "VgmqHmUPmU3K"
      },
      "execution_count": null,
      "outputs": []
    },
    {
      "cell_type": "code",
      "source": [
        "from collections import defaultdict\n",
        "\n",
        "pump_dates_ls = []\n",
        "\n",
        "d = defaultdict(list)\n",
        "first_fl = True\n",
        "pump_cur_int = 0\n",
        "date_end_dt = \n",
        "\n",
        "for _, row in df.iterrows():\n",
        "  pump_last_int = pump_cur_int\n",
        "  pump_cur_int = row['pump_index']\n",
        "  if (pump_last_int != pump_cur_int) & (pump_cur_int == 1):\n",
        "    date_start_dt = row['date']\n",
        "  elif (pump_last_int != pump_cur_int) & (pump_cur_int == 0):\n",
        "    date_end_dt = row['date']\n",
        "  else:\n",
        "    continue\n",
        "\n",
        "\n",
        "  else:\n",
        "    d[row['name']].append(row['val'])\n",
        "    \n",
        "dict(d)"
      ],
      "metadata": {
        "id": "WczJW7C-mzeD"
      },
      "execution_count": null,
      "outputs": []
    },
    {
      "cell_type": "code",
      "source": [
        "transitions = df.groupby('userid').category.diff().fillna(0).ne(0)\n",
        ">>> x[transitions].groupby('userid').agg(list)"
      ],
      "metadata": {
        "id": "7FTKQ_pBfq8p"
      },
      "execution_count": null,
      "outputs": []
    }
  ]
}